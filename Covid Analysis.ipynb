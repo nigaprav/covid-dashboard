{
 "cells": [
  {
   "cell_type": "code",
   "id": "initial_id",
   "metadata": {
    "collapsed": true,
    "ExecuteTime": {
     "end_time": "2025-06-30T06:23:27.919981Z",
     "start_time": "2025-06-30T06:23:27.760418Z"
    }
   },
   "source": [
    "import numpy as np\n",
    "import pandas as pd\n",
    "import matplotlib.pyplot as plt\n",
    "import seaborn as sns\n",
    "import plotly.express as px\n",
    "import plotly.graph_objects as go\n"
   ],
   "outputs": [],
   "execution_count": 1
  },
  {
   "metadata": {
    "ExecuteTime": {
     "end_time": "2025-06-30T06:25:37.653268Z",
     "start_time": "2025-06-30T06:25:37.599710Z"
    }
   },
   "cell_type": "code",
   "source": [
    "c_df = pd.read_csv('covid_19_india.csv')\n",
    "i_df = pd.read_csv('IndividualDetails.csv')\n",
    "a_df = pd.read_csv('AgeGroupDetails.csv')"
   ],
   "id": "18de88669b9b0f12",
   "outputs": [],
   "execution_count": 4
  },
  {
   "metadata": {
    "ExecuteTime": {
     "end_time": "2025-06-30T06:27:10.684891Z",
     "start_time": "2025-06-30T06:27:10.663597Z"
    }
   },
   "cell_type": "code",
   "source": "c_df.sample(5)",
   "id": "d55a848659e06393",
   "outputs": [
    {
     "data": {
      "text/plain": [
       "     Sno      Date     Time State/UnionTerritory ConfirmedIndianNational  \\\n",
       "141  142  14/03/20  6:00 PM               Ladakh                       3   \n",
       "240  241  20/03/20  6:00 PM           Tamil Nadu                       3   \n",
       "495  496  30/03/20  9:30 PM           Tamil Nadu                       -   \n",
       "660  661  05/04/20  6:00 PM    Jammu and Kashmir                       -   \n",
       "803  804  10/04/20  5:00 PM    Arunachal Pradesh                       -   \n",
       "\n",
       "    ConfirmedForeignNational  Cured  Deaths  Confirmed  \n",
       "141                        0      0       0          3  \n",
       "240                        0      1       0          3  \n",
       "495                        -      4       1         67  \n",
       "660                        -      4       2        106  \n",
       "803                        -      0       0          1  "
      ],
      "text/html": [
       "<div>\n",
       "<style scoped>\n",
       "    .dataframe tbody tr th:only-of-type {\n",
       "        vertical-align: middle;\n",
       "    }\n",
       "\n",
       "    .dataframe tbody tr th {\n",
       "        vertical-align: top;\n",
       "    }\n",
       "\n",
       "    .dataframe thead th {\n",
       "        text-align: right;\n",
       "    }\n",
       "</style>\n",
       "<table border=\"1\" class=\"dataframe\">\n",
       "  <thead>\n",
       "    <tr style=\"text-align: right;\">\n",
       "      <th></th>\n",
       "      <th>Sno</th>\n",
       "      <th>Date</th>\n",
       "      <th>Time</th>\n",
       "      <th>State/UnionTerritory</th>\n",
       "      <th>ConfirmedIndianNational</th>\n",
       "      <th>ConfirmedForeignNational</th>\n",
       "      <th>Cured</th>\n",
       "      <th>Deaths</th>\n",
       "      <th>Confirmed</th>\n",
       "    </tr>\n",
       "  </thead>\n",
       "  <tbody>\n",
       "    <tr>\n",
       "      <th>141</th>\n",
       "      <td>142</td>\n",
       "      <td>14/03/20</td>\n",
       "      <td>6:00 PM</td>\n",
       "      <td>Ladakh</td>\n",
       "      <td>3</td>\n",
       "      <td>0</td>\n",
       "      <td>0</td>\n",
       "      <td>0</td>\n",
       "      <td>3</td>\n",
       "    </tr>\n",
       "    <tr>\n",
       "      <th>240</th>\n",
       "      <td>241</td>\n",
       "      <td>20/03/20</td>\n",
       "      <td>6:00 PM</td>\n",
       "      <td>Tamil Nadu</td>\n",
       "      <td>3</td>\n",
       "      <td>0</td>\n",
       "      <td>1</td>\n",
       "      <td>0</td>\n",
       "      <td>3</td>\n",
       "    </tr>\n",
       "    <tr>\n",
       "      <th>495</th>\n",
       "      <td>496</td>\n",
       "      <td>30/03/20</td>\n",
       "      <td>9:30 PM</td>\n",
       "      <td>Tamil Nadu</td>\n",
       "      <td>-</td>\n",
       "      <td>-</td>\n",
       "      <td>4</td>\n",
       "      <td>1</td>\n",
       "      <td>67</td>\n",
       "    </tr>\n",
       "    <tr>\n",
       "      <th>660</th>\n",
       "      <td>661</td>\n",
       "      <td>05/04/20</td>\n",
       "      <td>6:00 PM</td>\n",
       "      <td>Jammu and Kashmir</td>\n",
       "      <td>-</td>\n",
       "      <td>-</td>\n",
       "      <td>4</td>\n",
       "      <td>2</td>\n",
       "      <td>106</td>\n",
       "    </tr>\n",
       "    <tr>\n",
       "      <th>803</th>\n",
       "      <td>804</td>\n",
       "      <td>10/04/20</td>\n",
       "      <td>5:00 PM</td>\n",
       "      <td>Arunachal Pradesh</td>\n",
       "      <td>-</td>\n",
       "      <td>-</td>\n",
       "      <td>0</td>\n",
       "      <td>0</td>\n",
       "      <td>1</td>\n",
       "    </tr>\n",
       "  </tbody>\n",
       "</table>\n",
       "</div>"
      ]
     },
     "execution_count": 7,
     "metadata": {},
     "output_type": "execute_result"
    }
   ],
   "execution_count": 7
  },
  {
   "metadata": {
    "ExecuteTime": {
     "end_time": "2025-06-30T06:27:43.967173Z",
     "start_time": "2025-06-30T06:27:43.946832Z"
    }
   },
   "cell_type": "code",
   "source": "i_df.sample(5)",
   "id": "6b0201285fc48187",
   "outputs": [
    {
     "data": {
      "text/plain": [
       "        id government_id diagnosed_date  age gender detected_city  \\\n",
       "1348  1348           NaN     31/03/2020  NaN    NaN           NaN   \n",
       "864    864           NaN     27/03/2020   45      F           NaN   \n",
       "2616  2616           NaN     03/04/2020  NaN    NaN           NaN   \n",
       "340    340           NaN     22/03/2020   64      F   Mumbai City   \n",
       "3236  3236       KA-P134     04/04/2020   38      M           NaN   \n",
       "\n",
       "     detected_district detected_state nationality current_status  \\\n",
       "1348            Mumbai    Maharashtra         NaN   Hospitalized   \n",
       "864              Nadia    West Bengal       India   Hospitalized   \n",
       "2616        Saharanpur  Uttar Pradesh         NaN   Hospitalized   \n",
       "340             Mumbai    Maharashtra       India   Hospitalized   \n",
       "3236            Mysuru      Karnataka       India   Hospitalized   \n",
       "\n",
       "     status_change_date                                              notes  \n",
       "1348         31/03/2020                                    Details awaited  \n",
       "864          27/03/2020  Family, History of contact to a positive case ...  \n",
       "2616         03/04/2020                                 Travelled to Delhi  \n",
       "340          22/03/2020                               Contact transmission  \n",
       "3236         04/04/2020                            Travel history of Delhi  "
      ],
      "text/html": [
       "<div>\n",
       "<style scoped>\n",
       "    .dataframe tbody tr th:only-of-type {\n",
       "        vertical-align: middle;\n",
       "    }\n",
       "\n",
       "    .dataframe tbody tr th {\n",
       "        vertical-align: top;\n",
       "    }\n",
       "\n",
       "    .dataframe thead th {\n",
       "        text-align: right;\n",
       "    }\n",
       "</style>\n",
       "<table border=\"1\" class=\"dataframe\">\n",
       "  <thead>\n",
       "    <tr style=\"text-align: right;\">\n",
       "      <th></th>\n",
       "      <th>id</th>\n",
       "      <th>government_id</th>\n",
       "      <th>diagnosed_date</th>\n",
       "      <th>age</th>\n",
       "      <th>gender</th>\n",
       "      <th>detected_city</th>\n",
       "      <th>detected_district</th>\n",
       "      <th>detected_state</th>\n",
       "      <th>nationality</th>\n",
       "      <th>current_status</th>\n",
       "      <th>status_change_date</th>\n",
       "      <th>notes</th>\n",
       "    </tr>\n",
       "  </thead>\n",
       "  <tbody>\n",
       "    <tr>\n",
       "      <th>1348</th>\n",
       "      <td>1348</td>\n",
       "      <td>NaN</td>\n",
       "      <td>31/03/2020</td>\n",
       "      <td>NaN</td>\n",
       "      <td>NaN</td>\n",
       "      <td>NaN</td>\n",
       "      <td>Mumbai</td>\n",
       "      <td>Maharashtra</td>\n",
       "      <td>NaN</td>\n",
       "      <td>Hospitalized</td>\n",
       "      <td>31/03/2020</td>\n",
       "      <td>Details awaited</td>\n",
       "    </tr>\n",
       "    <tr>\n",
       "      <th>864</th>\n",
       "      <td>864</td>\n",
       "      <td>NaN</td>\n",
       "      <td>27/03/2020</td>\n",
       "      <td>45</td>\n",
       "      <td>F</td>\n",
       "      <td>NaN</td>\n",
       "      <td>Nadia</td>\n",
       "      <td>West Bengal</td>\n",
       "      <td>India</td>\n",
       "      <td>Hospitalized</td>\n",
       "      <td>27/03/2020</td>\n",
       "      <td>Family, History of contact to a positive case ...</td>\n",
       "    </tr>\n",
       "    <tr>\n",
       "      <th>2616</th>\n",
       "      <td>2616</td>\n",
       "      <td>NaN</td>\n",
       "      <td>03/04/2020</td>\n",
       "      <td>NaN</td>\n",
       "      <td>NaN</td>\n",
       "      <td>NaN</td>\n",
       "      <td>Saharanpur</td>\n",
       "      <td>Uttar Pradesh</td>\n",
       "      <td>NaN</td>\n",
       "      <td>Hospitalized</td>\n",
       "      <td>03/04/2020</td>\n",
       "      <td>Travelled to Delhi</td>\n",
       "    </tr>\n",
       "    <tr>\n",
       "      <th>340</th>\n",
       "      <td>340</td>\n",
       "      <td>NaN</td>\n",
       "      <td>22/03/2020</td>\n",
       "      <td>64</td>\n",
       "      <td>F</td>\n",
       "      <td>Mumbai City</td>\n",
       "      <td>Mumbai</td>\n",
       "      <td>Maharashtra</td>\n",
       "      <td>India</td>\n",
       "      <td>Hospitalized</td>\n",
       "      <td>22/03/2020</td>\n",
       "      <td>Contact transmission</td>\n",
       "    </tr>\n",
       "    <tr>\n",
       "      <th>3236</th>\n",
       "      <td>3236</td>\n",
       "      <td>KA-P134</td>\n",
       "      <td>04/04/2020</td>\n",
       "      <td>38</td>\n",
       "      <td>M</td>\n",
       "      <td>NaN</td>\n",
       "      <td>Mysuru</td>\n",
       "      <td>Karnataka</td>\n",
       "      <td>India</td>\n",
       "      <td>Hospitalized</td>\n",
       "      <td>04/04/2020</td>\n",
       "      <td>Travel history of Delhi</td>\n",
       "    </tr>\n",
       "  </tbody>\n",
       "</table>\n",
       "</div>"
      ]
     },
     "execution_count": 8,
     "metadata": {},
     "output_type": "execute_result"
    }
   ],
   "execution_count": 8
  },
  {
   "metadata": {
    "ExecuteTime": {
     "end_time": "2025-06-30T06:27:50.052653Z",
     "start_time": "2025-06-30T06:27:50.041123Z"
    }
   },
   "cell_type": "code",
   "source": "a_df",
   "id": "1cdee396e5d7cbd1",
   "outputs": [
    {
     "data": {
      "text/plain": [
       "   Sno AgeGroup  TotalCases Percentage\n",
       "0    1      0-9          22      3.18%\n",
       "1    2    10-19          27      3.90%\n",
       "2    3    20-29         172     24.86%\n",
       "3    4    30-39         146     21.10%\n",
       "4    5    40-49         112     16.18%\n",
       "5    6    50-59          77     11.13%\n",
       "6    7    60-69          89     12.86%\n",
       "7    8    70-79          28      4.05%\n",
       "8    9     >=80          10      1.45%\n",
       "9   10  Missing           9      1.30%"
      ],
      "text/html": [
       "<div>\n",
       "<style scoped>\n",
       "    .dataframe tbody tr th:only-of-type {\n",
       "        vertical-align: middle;\n",
       "    }\n",
       "\n",
       "    .dataframe tbody tr th {\n",
       "        vertical-align: top;\n",
       "    }\n",
       "\n",
       "    .dataframe thead th {\n",
       "        text-align: right;\n",
       "    }\n",
       "</style>\n",
       "<table border=\"1\" class=\"dataframe\">\n",
       "  <thead>\n",
       "    <tr style=\"text-align: right;\">\n",
       "      <th></th>\n",
       "      <th>Sno</th>\n",
       "      <th>AgeGroup</th>\n",
       "      <th>TotalCases</th>\n",
       "      <th>Percentage</th>\n",
       "    </tr>\n",
       "  </thead>\n",
       "  <tbody>\n",
       "    <tr>\n",
       "      <th>0</th>\n",
       "      <td>1</td>\n",
       "      <td>0-9</td>\n",
       "      <td>22</td>\n",
       "      <td>3.18%</td>\n",
       "    </tr>\n",
       "    <tr>\n",
       "      <th>1</th>\n",
       "      <td>2</td>\n",
       "      <td>10-19</td>\n",
       "      <td>27</td>\n",
       "      <td>3.90%</td>\n",
       "    </tr>\n",
       "    <tr>\n",
       "      <th>2</th>\n",
       "      <td>3</td>\n",
       "      <td>20-29</td>\n",
       "      <td>172</td>\n",
       "      <td>24.86%</td>\n",
       "    </tr>\n",
       "    <tr>\n",
       "      <th>3</th>\n",
       "      <td>4</td>\n",
       "      <td>30-39</td>\n",
       "      <td>146</td>\n",
       "      <td>21.10%</td>\n",
       "    </tr>\n",
       "    <tr>\n",
       "      <th>4</th>\n",
       "      <td>5</td>\n",
       "      <td>40-49</td>\n",
       "      <td>112</td>\n",
       "      <td>16.18%</td>\n",
       "    </tr>\n",
       "    <tr>\n",
       "      <th>5</th>\n",
       "      <td>6</td>\n",
       "      <td>50-59</td>\n",
       "      <td>77</td>\n",
       "      <td>11.13%</td>\n",
       "    </tr>\n",
       "    <tr>\n",
       "      <th>6</th>\n",
       "      <td>7</td>\n",
       "      <td>60-69</td>\n",
       "      <td>89</td>\n",
       "      <td>12.86%</td>\n",
       "    </tr>\n",
       "    <tr>\n",
       "      <th>7</th>\n",
       "      <td>8</td>\n",
       "      <td>70-79</td>\n",
       "      <td>28</td>\n",
       "      <td>4.05%</td>\n",
       "    </tr>\n",
       "    <tr>\n",
       "      <th>8</th>\n",
       "      <td>9</td>\n",
       "      <td>&gt;=80</td>\n",
       "      <td>10</td>\n",
       "      <td>1.45%</td>\n",
       "    </tr>\n",
       "    <tr>\n",
       "      <th>9</th>\n",
       "      <td>10</td>\n",
       "      <td>Missing</td>\n",
       "      <td>9</td>\n",
       "      <td>1.30%</td>\n",
       "    </tr>\n",
       "  </tbody>\n",
       "</table>\n",
       "</div>"
      ]
     },
     "execution_count": 9,
     "metadata": {},
     "output_type": "execute_result"
    }
   ],
   "execution_count": 9
  },
  {
   "metadata": {
    "ExecuteTime": {
     "end_time": "2025-06-30T06:31:10.018857Z",
     "start_time": "2025-06-30T06:31:10.007390Z"
    }
   },
   "cell_type": "code",
   "source": "i_df['current_status'].value_counts()",
   "id": "9aaf8a0902aa7de6",
   "outputs": [
    {
     "data": {
      "text/plain": [
       "current_status\n",
       "Hospitalized    8301\n",
       "Recovered        139\n",
       "Deceased          30\n",
       "Migrated           1\n",
       "Name: count, dtype: int64"
      ]
     },
     "execution_count": 15,
     "metadata": {},
     "output_type": "execute_result"
    }
   ],
   "execution_count": 15
  },
  {
   "metadata": {
    "ExecuteTime": {
     "end_time": "2025-06-30T06:32:14.202166Z",
     "start_time": "2025-06-30T06:32:14.037176Z"
    }
   },
   "cell_type": "code",
   "source": "i_df.info()",
   "id": "ecba872df523469f",
   "outputs": [
    {
     "name": "stdout",
     "output_type": "stream",
     "text": [
      "<class 'pandas.core.frame.DataFrame'>\n",
      "RangeIndex: 8472 entries, 0 to 8471\n",
      "Data columns (total 12 columns):\n",
      " #   Column              Non-Null Count  Dtype \n",
      "---  ------              --------------  ----- \n",
      " 0   id                  8472 non-null   int64 \n",
      " 1   government_id       1538 non-null   object\n",
      " 2   diagnosed_date      8472 non-null   object\n",
      " 3   age                 1190 non-null   object\n",
      " 4   gender              1967 non-null   object\n",
      " 5   detected_city       1123 non-null   object\n",
      " 6   detected_district   6848 non-null   object\n",
      " 7   detected_state      8472 non-null   object\n",
      " 8   nationality         1195 non-null   object\n",
      " 9   current_status      8471 non-null   object\n",
      " 10  status_change_date  8362 non-null   object\n",
      " 11  notes               7272 non-null   object\n",
      "dtypes: int64(1), object(11)\n",
      "memory usage: 794.4+ KB\n"
     ]
    }
   ],
   "execution_count": 16
  },
  {
   "metadata": {
    "ExecuteTime": {
     "end_time": "2025-06-30T06:36:14.923404Z",
     "start_time": "2025-06-30T06:36:14.911260Z"
    }
   },
   "cell_type": "code",
   "source": "i_df['current_status'].value_counts()",
   "id": "ffc45aff7e7187b5",
   "outputs": [
    {
     "data": {
      "text/plain": [
       "current_status\n",
       "Hospitalized    8301\n",
       "Recovered        139\n",
       "Deceased          30\n",
       "Migrated           1\n",
       "Name: count, dtype: int64"
      ]
     },
     "execution_count": 26,
     "metadata": {},
     "output_type": "execute_result"
    }
   ],
   "execution_count": 26
  },
  {
   "metadata": {
    "ExecuteTime": {
     "end_time": "2025-06-30T06:34:15.206333Z",
     "start_time": "2025-06-30T06:34:15.197972Z"
    }
   },
   "cell_type": "code",
   "source": "total = i_df.shape[0]",
   "id": "4f4d5e94ebd999cd",
   "outputs": [],
   "execution_count": 18
  },
  {
   "metadata": {
    "ExecuteTime": {
     "end_time": "2025-06-30T06:36:47.017160Z",
     "start_time": "2025-06-30T06:36:47.006110Z"
    }
   },
   "cell_type": "code",
   "source": "active = i_df['current_status'].value_counts()[0]",
   "id": "1a1f4b1041e566b0",
   "outputs": [
    {
     "name": "stderr",
     "output_type": "stream",
     "text": [
      "C:\\Users\\kushw\\AppData\\Local\\Temp\\ipykernel_18636\\2625600038.py:1: FutureWarning: Series.__getitem__ treating keys as positions is deprecated. In a future version, integer keys will always be treated as labels (consistent with DataFrame behavior). To access a value by position, use `ser.iloc[pos]`\n",
      "  active = i_df['current_status'].value_counts()[0]\n"
     ]
    }
   ],
   "execution_count": 27
  },
  {
   "metadata": {
    "ExecuteTime": {
     "end_time": "2025-06-30T06:37:12.282053Z",
     "start_time": "2025-06-30T06:37:12.272131Z"
    }
   },
   "cell_type": "code",
   "source": "recovered = i_df['current_status'].value_counts()[1]",
   "id": "4332d04af72fa33d",
   "outputs": [
    {
     "name": "stderr",
     "output_type": "stream",
     "text": [
      "C:\\Users\\kushw\\AppData\\Local\\Temp\\ipykernel_18636\\2140762423.py:1: FutureWarning: Series.__getitem__ treating keys as positions is deprecated. In a future version, integer keys will always be treated as labels (consistent with DataFrame behavior). To access a value by position, use `ser.iloc[pos]`\n",
      "  recovered = i_df['current_status'].value_counts()[1]\n"
     ]
    }
   ],
   "execution_count": 28
  },
  {
   "metadata": {
    "ExecuteTime": {
     "end_time": "2025-06-30T06:37:46.161306Z",
     "start_time": "2025-06-30T06:37:46.148688Z"
    }
   },
   "cell_type": "code",
   "source": "deaths = i_df['current_status'].value_counts()[2]",
   "id": "6e4c84b1b3bf1a2",
   "outputs": [
    {
     "name": "stderr",
     "output_type": "stream",
     "text": [
      "C:\\Users\\kushw\\AppData\\Local\\Temp\\ipykernel_18636\\1329170698.py:1: FutureWarning: Series.__getitem__ treating keys as positions is deprecated. In a future version, integer keys will always be treated as labels (consistent with DataFrame behavior). To access a value by position, use `ser.iloc[pos]`\n",
      "  deaths = i_df['current_status'].value_counts()[2]\n"
     ]
    }
   ],
   "execution_count": 29
  },
  {
   "metadata": {
    "ExecuteTime": {
     "end_time": "2025-06-30T06:38:12.690743Z",
     "start_time": "2025-06-30T06:38:12.679954Z"
    }
   },
   "cell_type": "code",
   "source": "total,active,recovered,deaths",
   "id": "1e1b33dd60bbd1f8",
   "outputs": [
    {
     "data": {
      "text/plain": [
       "(8472, np.int64(8301), np.int64(139), np.int64(30))"
      ]
     },
     "execution_count": 30,
     "metadata": {},
     "output_type": "execute_result"
    }
   ],
   "execution_count": 30
  },
  {
   "metadata": {
    "ExecuteTime": {
     "end_time": "2025-06-30T07:20:12.567717Z",
     "start_time": "2025-06-30T07:20:12.537468Z"
    }
   },
   "cell_type": "code",
   "source": [
    "all = i_df['detected_state'].value_counts().reset_index()\n",
    "all"
   ],
   "id": "213ccb37a2e9e744",
   "outputs": [
    {
     "data": {
      "text/plain": [
       "                 detected_state  count\n",
       "0                   Maharashtra   1761\n",
       "1                         Delhi   1069\n",
       "2                    Tamil Nadu    969\n",
       "3                     Rajasthan    700\n",
       "4                Madhya Pradesh    529\n",
       "5                     Telangana    503\n",
       "6                       Gujarat    468\n",
       "7                 Uttar Pradesh    452\n",
       "8                Andhra Pradesh    405\n",
       "9                        Kerala    373\n",
       "10                    Karnataka    226\n",
       "11            Jammu and Kashmir    224\n",
       "12                      Haryana    179\n",
       "13                       Punjab    158\n",
       "14                  West Bengal    134\n",
       "15                        Bihar     64\n",
       "16                       Odisha     54\n",
       "17                  Uttarakhand     35\n",
       "18             Himachal Pradesh     32\n",
       "19                        Assam     29\n",
       "20                 Chhattisgarh     25\n",
       "21                   Chandigarh     19\n",
       "22                    Jharkhand     17\n",
       "23                       Ladakh     15\n",
       "24  Andaman and Nicobar Islands     11\n",
       "25                   Puducherry      7\n",
       "26                          Goa      7\n",
       "27                      Manipur      2\n",
       "28                      Tripura      2\n",
       "29                      Mizoram      1\n",
       "30            Arunachal Pradesh      1\n",
       "31       Dadra and Nagar Haveli      1"
      ],
      "text/html": [
       "<div>\n",
       "<style scoped>\n",
       "    .dataframe tbody tr th:only-of-type {\n",
       "        vertical-align: middle;\n",
       "    }\n",
       "\n",
       "    .dataframe tbody tr th {\n",
       "        vertical-align: top;\n",
       "    }\n",
       "\n",
       "    .dataframe thead th {\n",
       "        text-align: right;\n",
       "    }\n",
       "</style>\n",
       "<table border=\"1\" class=\"dataframe\">\n",
       "  <thead>\n",
       "    <tr style=\"text-align: right;\">\n",
       "      <th></th>\n",
       "      <th>detected_state</th>\n",
       "      <th>count</th>\n",
       "    </tr>\n",
       "  </thead>\n",
       "  <tbody>\n",
       "    <tr>\n",
       "      <th>0</th>\n",
       "      <td>Maharashtra</td>\n",
       "      <td>1761</td>\n",
       "    </tr>\n",
       "    <tr>\n",
       "      <th>1</th>\n",
       "      <td>Delhi</td>\n",
       "      <td>1069</td>\n",
       "    </tr>\n",
       "    <tr>\n",
       "      <th>2</th>\n",
       "      <td>Tamil Nadu</td>\n",
       "      <td>969</td>\n",
       "    </tr>\n",
       "    <tr>\n",
       "      <th>3</th>\n",
       "      <td>Rajasthan</td>\n",
       "      <td>700</td>\n",
       "    </tr>\n",
       "    <tr>\n",
       "      <th>4</th>\n",
       "      <td>Madhya Pradesh</td>\n",
       "      <td>529</td>\n",
       "    </tr>\n",
       "    <tr>\n",
       "      <th>5</th>\n",
       "      <td>Telangana</td>\n",
       "      <td>503</td>\n",
       "    </tr>\n",
       "    <tr>\n",
       "      <th>6</th>\n",
       "      <td>Gujarat</td>\n",
       "      <td>468</td>\n",
       "    </tr>\n",
       "    <tr>\n",
       "      <th>7</th>\n",
       "      <td>Uttar Pradesh</td>\n",
       "      <td>452</td>\n",
       "    </tr>\n",
       "    <tr>\n",
       "      <th>8</th>\n",
       "      <td>Andhra Pradesh</td>\n",
       "      <td>405</td>\n",
       "    </tr>\n",
       "    <tr>\n",
       "      <th>9</th>\n",
       "      <td>Kerala</td>\n",
       "      <td>373</td>\n",
       "    </tr>\n",
       "    <tr>\n",
       "      <th>10</th>\n",
       "      <td>Karnataka</td>\n",
       "      <td>226</td>\n",
       "    </tr>\n",
       "    <tr>\n",
       "      <th>11</th>\n",
       "      <td>Jammu and Kashmir</td>\n",
       "      <td>224</td>\n",
       "    </tr>\n",
       "    <tr>\n",
       "      <th>12</th>\n",
       "      <td>Haryana</td>\n",
       "      <td>179</td>\n",
       "    </tr>\n",
       "    <tr>\n",
       "      <th>13</th>\n",
       "      <td>Punjab</td>\n",
       "      <td>158</td>\n",
       "    </tr>\n",
       "    <tr>\n",
       "      <th>14</th>\n",
       "      <td>West Bengal</td>\n",
       "      <td>134</td>\n",
       "    </tr>\n",
       "    <tr>\n",
       "      <th>15</th>\n",
       "      <td>Bihar</td>\n",
       "      <td>64</td>\n",
       "    </tr>\n",
       "    <tr>\n",
       "      <th>16</th>\n",
       "      <td>Odisha</td>\n",
       "      <td>54</td>\n",
       "    </tr>\n",
       "    <tr>\n",
       "      <th>17</th>\n",
       "      <td>Uttarakhand</td>\n",
       "      <td>35</td>\n",
       "    </tr>\n",
       "    <tr>\n",
       "      <th>18</th>\n",
       "      <td>Himachal Pradesh</td>\n",
       "      <td>32</td>\n",
       "    </tr>\n",
       "    <tr>\n",
       "      <th>19</th>\n",
       "      <td>Assam</td>\n",
       "      <td>29</td>\n",
       "    </tr>\n",
       "    <tr>\n",
       "      <th>20</th>\n",
       "      <td>Chhattisgarh</td>\n",
       "      <td>25</td>\n",
       "    </tr>\n",
       "    <tr>\n",
       "      <th>21</th>\n",
       "      <td>Chandigarh</td>\n",
       "      <td>19</td>\n",
       "    </tr>\n",
       "    <tr>\n",
       "      <th>22</th>\n",
       "      <td>Jharkhand</td>\n",
       "      <td>17</td>\n",
       "    </tr>\n",
       "    <tr>\n",
       "      <th>23</th>\n",
       "      <td>Ladakh</td>\n",
       "      <td>15</td>\n",
       "    </tr>\n",
       "    <tr>\n",
       "      <th>24</th>\n",
       "      <td>Andaman and Nicobar Islands</td>\n",
       "      <td>11</td>\n",
       "    </tr>\n",
       "    <tr>\n",
       "      <th>25</th>\n",
       "      <td>Puducherry</td>\n",
       "      <td>7</td>\n",
       "    </tr>\n",
       "    <tr>\n",
       "      <th>26</th>\n",
       "      <td>Goa</td>\n",
       "      <td>7</td>\n",
       "    </tr>\n",
       "    <tr>\n",
       "      <th>27</th>\n",
       "      <td>Manipur</td>\n",
       "      <td>2</td>\n",
       "    </tr>\n",
       "    <tr>\n",
       "      <th>28</th>\n",
       "      <td>Tripura</td>\n",
       "      <td>2</td>\n",
       "    </tr>\n",
       "    <tr>\n",
       "      <th>29</th>\n",
       "      <td>Mizoram</td>\n",
       "      <td>1</td>\n",
       "    </tr>\n",
       "    <tr>\n",
       "      <th>30</th>\n",
       "      <td>Arunachal Pradesh</td>\n",
       "      <td>1</td>\n",
       "    </tr>\n",
       "    <tr>\n",
       "      <th>31</th>\n",
       "      <td>Dadra and Nagar Haveli</td>\n",
       "      <td>1</td>\n",
       "    </tr>\n",
       "  </tbody>\n",
       "</table>\n",
       "</div>"
      ]
     },
     "execution_count": 48,
     "metadata": {},
     "output_type": "execute_result"
    }
   ],
   "execution_count": 48
  },
  {
   "metadata": {
    "ExecuteTime": {
     "end_time": "2025-06-30T07:14:57.849165Z",
     "start_time": "2025-06-30T07:14:57.827939Z"
    }
   },
   "cell_type": "code",
   "source": [
    "active_cases = i_df[i_df['current_status']=='Hospitalized']\n",
    "active_cases = active_cases.groupby('detected_state')['current_status'].value_counts().reset_index()\n",
    "active_cases.drop(columns='current_status', inplace=True)"
   ],
   "id": "f92a14d350bb3203",
   "outputs": [],
   "execution_count": 44
  },
  {
   "metadata": {
    "ExecuteTime": {
     "end_time": "2025-06-30T07:14:37.269863Z",
     "start_time": "2025-06-30T07:14:37.241865Z"
    }
   },
   "cell_type": "code",
   "source": [
    "death_cases = i_df[i_df['current_status']=='Deceased']\n",
    "death_cases = death_cases.groupby('detected_state')['current_status'].value_counts().reset_index()\n",
    "death_cases.drop(columns='current_status', inplace=True)"
   ],
   "id": "2e889ec575e257a2",
   "outputs": [],
   "execution_count": 42
  },
  {
   "metadata": {
    "ExecuteTime": {
     "end_time": "2025-06-30T07:28:21.341528Z",
     "start_time": "2025-06-30T07:28:21.000494Z"
    }
   },
   "cell_type": "code",
   "source": [
    "recovered_cases = i_df[i_df['current_status']=='Recovered']\n",
    "recovered_cases = recovered_cases.groupby('detected_state')['current_status'].value_counts().reset_index()\n",
    "recovered_cases.drop(columns='current_status', inplace=True)\n",
    "recovered_cases"
   ],
   "id": "7fead65e898cf555",
   "outputs": [
    {
     "data": {
      "text/plain": [
       "      detected_state  count\n",
       "0     Andhra Pradesh      2\n",
       "1       Chhattisgarh      1\n",
       "2              Delhi      2\n",
       "3            Gujarat      1\n",
       "4            Haryana     12\n",
       "5   Himachal Pradesh      1\n",
       "6          Karnataka     39\n",
       "7             Kerala     58\n",
       "8        Maharashtra      2\n",
       "9            Manipur      1\n",
       "10         Rajasthan      3\n",
       "11        Tamil Nadu      6\n",
       "12         Telangana      1\n",
       "13     Uttar Pradesh      6\n",
       "14       Uttarakhand      1\n",
       "15       West Bengal      3"
      ],
      "text/html": [
       "<div>\n",
       "<style scoped>\n",
       "    .dataframe tbody tr th:only-of-type {\n",
       "        vertical-align: middle;\n",
       "    }\n",
       "\n",
       "    .dataframe tbody tr th {\n",
       "        vertical-align: top;\n",
       "    }\n",
       "\n",
       "    .dataframe thead th {\n",
       "        text-align: right;\n",
       "    }\n",
       "</style>\n",
       "<table border=\"1\" class=\"dataframe\">\n",
       "  <thead>\n",
       "    <tr style=\"text-align: right;\">\n",
       "      <th></th>\n",
       "      <th>detected_state</th>\n",
       "      <th>count</th>\n",
       "    </tr>\n",
       "  </thead>\n",
       "  <tbody>\n",
       "    <tr>\n",
       "      <th>0</th>\n",
       "      <td>Andhra Pradesh</td>\n",
       "      <td>2</td>\n",
       "    </tr>\n",
       "    <tr>\n",
       "      <th>1</th>\n",
       "      <td>Chhattisgarh</td>\n",
       "      <td>1</td>\n",
       "    </tr>\n",
       "    <tr>\n",
       "      <th>2</th>\n",
       "      <td>Delhi</td>\n",
       "      <td>2</td>\n",
       "    </tr>\n",
       "    <tr>\n",
       "      <th>3</th>\n",
       "      <td>Gujarat</td>\n",
       "      <td>1</td>\n",
       "    </tr>\n",
       "    <tr>\n",
       "      <th>4</th>\n",
       "      <td>Haryana</td>\n",
       "      <td>12</td>\n",
       "    </tr>\n",
       "    <tr>\n",
       "      <th>5</th>\n",
       "      <td>Himachal Pradesh</td>\n",
       "      <td>1</td>\n",
       "    </tr>\n",
       "    <tr>\n",
       "      <th>6</th>\n",
       "      <td>Karnataka</td>\n",
       "      <td>39</td>\n",
       "    </tr>\n",
       "    <tr>\n",
       "      <th>7</th>\n",
       "      <td>Kerala</td>\n",
       "      <td>58</td>\n",
       "    </tr>\n",
       "    <tr>\n",
       "      <th>8</th>\n",
       "      <td>Maharashtra</td>\n",
       "      <td>2</td>\n",
       "    </tr>\n",
       "    <tr>\n",
       "      <th>9</th>\n",
       "      <td>Manipur</td>\n",
       "      <td>1</td>\n",
       "    </tr>\n",
       "    <tr>\n",
       "      <th>10</th>\n",
       "      <td>Rajasthan</td>\n",
       "      <td>3</td>\n",
       "    </tr>\n",
       "    <tr>\n",
       "      <th>11</th>\n",
       "      <td>Tamil Nadu</td>\n",
       "      <td>6</td>\n",
       "    </tr>\n",
       "    <tr>\n",
       "      <th>12</th>\n",
       "      <td>Telangana</td>\n",
       "      <td>1</td>\n",
       "    </tr>\n",
       "    <tr>\n",
       "      <th>13</th>\n",
       "      <td>Uttar Pradesh</td>\n",
       "      <td>6</td>\n",
       "    </tr>\n",
       "    <tr>\n",
       "      <th>14</th>\n",
       "      <td>Uttarakhand</td>\n",
       "      <td>1</td>\n",
       "    </tr>\n",
       "    <tr>\n",
       "      <th>15</th>\n",
       "      <td>West Bengal</td>\n",
       "      <td>3</td>\n",
       "    </tr>\n",
       "  </tbody>\n",
       "</table>\n",
       "</div>"
      ]
     },
     "execution_count": 49,
     "metadata": {},
     "output_type": "execute_result"
    }
   ],
   "execution_count": 49
  },
  {
   "metadata": {
    "ExecuteTime": {
     "end_time": "2025-06-30T07:37:42.503820Z",
     "start_time": "2025-06-30T07:37:42.419419Z"
    }
   },
   "cell_type": "code",
   "source": "a_df",
   "id": "2b79a021eab615d2",
   "outputs": [
    {
     "data": {
      "text/plain": [
       "   Sno AgeGroup  TotalCases Percentage\n",
       "0    1      0-9          22      3.18%\n",
       "1    2    10-19          27      3.90%\n",
       "2    3    20-29         172     24.86%\n",
       "3    4    30-39         146     21.10%\n",
       "4    5    40-49         112     16.18%\n",
       "5    6    50-59          77     11.13%\n",
       "6    7    60-69          89     12.86%\n",
       "7    8    70-79          28      4.05%\n",
       "8    9     >=80          10      1.45%\n",
       "9   10  Missing           9      1.30%"
      ],
      "text/html": [
       "<div>\n",
       "<style scoped>\n",
       "    .dataframe tbody tr th:only-of-type {\n",
       "        vertical-align: middle;\n",
       "    }\n",
       "\n",
       "    .dataframe tbody tr th {\n",
       "        vertical-align: top;\n",
       "    }\n",
       "\n",
       "    .dataframe thead th {\n",
       "        text-align: right;\n",
       "    }\n",
       "</style>\n",
       "<table border=\"1\" class=\"dataframe\">\n",
       "  <thead>\n",
       "    <tr style=\"text-align: right;\">\n",
       "      <th></th>\n",
       "      <th>Sno</th>\n",
       "      <th>AgeGroup</th>\n",
       "      <th>TotalCases</th>\n",
       "      <th>Percentage</th>\n",
       "    </tr>\n",
       "  </thead>\n",
       "  <tbody>\n",
       "    <tr>\n",
       "      <th>0</th>\n",
       "      <td>1</td>\n",
       "      <td>0-9</td>\n",
       "      <td>22</td>\n",
       "      <td>3.18%</td>\n",
       "    </tr>\n",
       "    <tr>\n",
       "      <th>1</th>\n",
       "      <td>2</td>\n",
       "      <td>10-19</td>\n",
       "      <td>27</td>\n",
       "      <td>3.90%</td>\n",
       "    </tr>\n",
       "    <tr>\n",
       "      <th>2</th>\n",
       "      <td>3</td>\n",
       "      <td>20-29</td>\n",
       "      <td>172</td>\n",
       "      <td>24.86%</td>\n",
       "    </tr>\n",
       "    <tr>\n",
       "      <th>3</th>\n",
       "      <td>4</td>\n",
       "      <td>30-39</td>\n",
       "      <td>146</td>\n",
       "      <td>21.10%</td>\n",
       "    </tr>\n",
       "    <tr>\n",
       "      <th>4</th>\n",
       "      <td>5</td>\n",
       "      <td>40-49</td>\n",
       "      <td>112</td>\n",
       "      <td>16.18%</td>\n",
       "    </tr>\n",
       "    <tr>\n",
       "      <th>5</th>\n",
       "      <td>6</td>\n",
       "      <td>50-59</td>\n",
       "      <td>77</td>\n",
       "      <td>11.13%</td>\n",
       "    </tr>\n",
       "    <tr>\n",
       "      <th>6</th>\n",
       "      <td>7</td>\n",
       "      <td>60-69</td>\n",
       "      <td>89</td>\n",
       "      <td>12.86%</td>\n",
       "    </tr>\n",
       "    <tr>\n",
       "      <th>7</th>\n",
       "      <td>8</td>\n",
       "      <td>70-79</td>\n",
       "      <td>28</td>\n",
       "      <td>4.05%</td>\n",
       "    </tr>\n",
       "    <tr>\n",
       "      <th>8</th>\n",
       "      <td>9</td>\n",
       "      <td>&gt;=80</td>\n",
       "      <td>10</td>\n",
       "      <td>1.45%</td>\n",
       "    </tr>\n",
       "    <tr>\n",
       "      <th>9</th>\n",
       "      <td>10</td>\n",
       "      <td>Missing</td>\n",
       "      <td>9</td>\n",
       "      <td>1.30%</td>\n",
       "    </tr>\n",
       "  </tbody>\n",
       "</table>\n",
       "</div>"
      ]
     },
     "execution_count": 50,
     "metadata": {},
     "output_type": "execute_result"
    }
   ],
   "execution_count": 50
  },
  {
   "metadata": {
    "ExecuteTime": {
     "end_time": "2025-06-30T07:38:42.764439Z",
     "start_time": "2025-06-30T07:38:42.750946Z"
    }
   },
   "cell_type": "code",
   "source": "values = a_df['TotalCases'].values.tolist()",
   "id": "123374e76af87486",
   "outputs": [],
   "execution_count": 54
  },
  {
   "metadata": {
    "ExecuteTime": {
     "end_time": "2025-06-30T07:39:01.152316Z",
     "start_time": "2025-06-30T07:39:01.143321Z"
    }
   },
   "cell_type": "code",
   "source": "labels = a_df['AgeGroup'].values.tolist()",
   "id": "2a9e28c40c0d7631",
   "outputs": [],
   "execution_count": 55
  },
  {
   "metadata": {
    "ExecuteTime": {
     "end_time": "2025-06-30T07:39:39.985317Z",
     "start_time": "2025-06-30T07:39:38.230379Z"
    }
   },
   "cell_type": "code",
   "source": [
    "fig = go.Figure(\n",
    "    data=[\n",
    "        go.Pie(\n",
    "            labels=labels,\n",
    "            values=values,\n",
    "            hole=0.4  # set between 0 and 1; use hole=0.4 for a donut chart\n",
    "        )\n",
    "    ]\n",
    ")\n",
    "fig.show()"
   ],
   "id": "77c8e4d8fa20c1c9",
   "outputs": [
    {
     "data": {
      "application/vnd.plotly.v1+json": {
       "data": [
        {
         "hole": 0.4,
         "labels": [
          "0-9",
          "10-19",
          "20-29",
          "30-39",
          "40-49",
          "50-59",
          "60-69",
          "70-79",
          ">=80",
          "Missing"
         ],
         "values": [
          22,
          27,
          172,
          146,
          112,
          77,
          89,
          28,
          10,
          9
         ],
         "type": "pie"
        }
       ],
       "layout": {
        "template": {
         "data": {
          "histogram2dcontour": [
           {
            "type": "histogram2dcontour",
            "colorbar": {
             "outlinewidth": 0,
             "ticks": ""
            },
            "colorscale": [
             [
              0.0,
              "#0d0887"
             ],
             [
              0.1111111111111111,
              "#46039f"
             ],
             [
              0.2222222222222222,
              "#7201a8"
             ],
             [
              0.3333333333333333,
              "#9c179e"
             ],
             [
              0.4444444444444444,
              "#bd3786"
             ],
             [
              0.5555555555555556,
              "#d8576b"
             ],
             [
              0.6666666666666666,
              "#ed7953"
             ],
             [
              0.7777777777777778,
              "#fb9f3a"
             ],
             [
              0.8888888888888888,
              "#fdca26"
             ],
             [
              1.0,
              "#f0f921"
             ]
            ]
           }
          ],
          "choropleth": [
           {
            "type": "choropleth",
            "colorbar": {
             "outlinewidth": 0,
             "ticks": ""
            }
           }
          ],
          "histogram2d": [
           {
            "type": "histogram2d",
            "colorbar": {
             "outlinewidth": 0,
             "ticks": ""
            },
            "colorscale": [
             [
              0.0,
              "#0d0887"
             ],
             [
              0.1111111111111111,
              "#46039f"
             ],
             [
              0.2222222222222222,
              "#7201a8"
             ],
             [
              0.3333333333333333,
              "#9c179e"
             ],
             [
              0.4444444444444444,
              "#bd3786"
             ],
             [
              0.5555555555555556,
              "#d8576b"
             ],
             [
              0.6666666666666666,
              "#ed7953"
             ],
             [
              0.7777777777777778,
              "#fb9f3a"
             ],
             [
              0.8888888888888888,
              "#fdca26"
             ],
             [
              1.0,
              "#f0f921"
             ]
            ]
           }
          ],
          "heatmap": [
           {
            "type": "heatmap",
            "colorbar": {
             "outlinewidth": 0,
             "ticks": ""
            },
            "colorscale": [
             [
              0.0,
              "#0d0887"
             ],
             [
              0.1111111111111111,
              "#46039f"
             ],
             [
              0.2222222222222222,
              "#7201a8"
             ],
             [
              0.3333333333333333,
              "#9c179e"
             ],
             [
              0.4444444444444444,
              "#bd3786"
             ],
             [
              0.5555555555555556,
              "#d8576b"
             ],
             [
              0.6666666666666666,
              "#ed7953"
             ],
             [
              0.7777777777777778,
              "#fb9f3a"
             ],
             [
              0.8888888888888888,
              "#fdca26"
             ],
             [
              1.0,
              "#f0f921"
             ]
            ]
           }
          ],
          "contourcarpet": [
           {
            "type": "contourcarpet",
            "colorbar": {
             "outlinewidth": 0,
             "ticks": ""
            }
           }
          ],
          "contour": [
           {
            "type": "contour",
            "colorbar": {
             "outlinewidth": 0,
             "ticks": ""
            },
            "colorscale": [
             [
              0.0,
              "#0d0887"
             ],
             [
              0.1111111111111111,
              "#46039f"
             ],
             [
              0.2222222222222222,
              "#7201a8"
             ],
             [
              0.3333333333333333,
              "#9c179e"
             ],
             [
              0.4444444444444444,
              "#bd3786"
             ],
             [
              0.5555555555555556,
              "#d8576b"
             ],
             [
              0.6666666666666666,
              "#ed7953"
             ],
             [
              0.7777777777777778,
              "#fb9f3a"
             ],
             [
              0.8888888888888888,
              "#fdca26"
             ],
             [
              1.0,
              "#f0f921"
             ]
            ]
           }
          ],
          "surface": [
           {
            "type": "surface",
            "colorbar": {
             "outlinewidth": 0,
             "ticks": ""
            },
            "colorscale": [
             [
              0.0,
              "#0d0887"
             ],
             [
              0.1111111111111111,
              "#46039f"
             ],
             [
              0.2222222222222222,
              "#7201a8"
             ],
             [
              0.3333333333333333,
              "#9c179e"
             ],
             [
              0.4444444444444444,
              "#bd3786"
             ],
             [
              0.5555555555555556,
              "#d8576b"
             ],
             [
              0.6666666666666666,
              "#ed7953"
             ],
             [
              0.7777777777777778,
              "#fb9f3a"
             ],
             [
              0.8888888888888888,
              "#fdca26"
             ],
             [
              1.0,
              "#f0f921"
             ]
            ]
           }
          ],
          "mesh3d": [
           {
            "type": "mesh3d",
            "colorbar": {
             "outlinewidth": 0,
             "ticks": ""
            }
           }
          ],
          "scatter": [
           {
            "marker": {
             "line": {
              "color": "#283442"
             }
            },
            "type": "scatter"
           }
          ],
          "parcoords": [
           {
            "type": "parcoords",
            "line": {
             "colorbar": {
              "outlinewidth": 0,
              "ticks": ""
             }
            }
           }
          ],
          "scatterpolargl": [
           {
            "type": "scatterpolargl",
            "marker": {
             "colorbar": {
              "outlinewidth": 0,
              "ticks": ""
             }
            }
           }
          ],
          "bar": [
           {
            "error_x": {
             "color": "#f2f5fa"
            },
            "error_y": {
             "color": "#f2f5fa"
            },
            "marker": {
             "line": {
              "color": "rgb(17,17,17)",
              "width": 0.5
             },
             "pattern": {
              "fillmode": "overlay",
              "size": 10,
              "solidity": 0.2
             }
            },
            "type": "bar"
           }
          ],
          "scattergeo": [
           {
            "type": "scattergeo",
            "marker": {
             "colorbar": {
              "outlinewidth": 0,
              "ticks": ""
             }
            }
           }
          ],
          "scatterpolar": [
           {
            "type": "scatterpolar",
            "marker": {
             "colorbar": {
              "outlinewidth": 0,
              "ticks": ""
             }
            }
           }
          ],
          "histogram": [
           {
            "marker": {
             "pattern": {
              "fillmode": "overlay",
              "size": 10,
              "solidity": 0.2
             }
            },
            "type": "histogram"
           }
          ],
          "scattergl": [
           {
            "marker": {
             "line": {
              "color": "#283442"
             }
            },
            "type": "scattergl"
           }
          ],
          "scatter3d": [
           {
            "type": "scatter3d",
            "line": {
             "colorbar": {
              "outlinewidth": 0,
              "ticks": ""
             }
            },
            "marker": {
             "colorbar": {
              "outlinewidth": 0,
              "ticks": ""
             }
            }
           }
          ],
          "scattermap": [
           {
            "type": "scattermap",
            "marker": {
             "colorbar": {
              "outlinewidth": 0,
              "ticks": ""
             }
            }
           }
          ],
          "scattermapbox": [
           {
            "type": "scattermapbox",
            "marker": {
             "colorbar": {
              "outlinewidth": 0,
              "ticks": ""
             }
            }
           }
          ],
          "scatterternary": [
           {
            "type": "scatterternary",
            "marker": {
             "colorbar": {
              "outlinewidth": 0,
              "ticks": ""
             }
            }
           }
          ],
          "scattercarpet": [
           {
            "type": "scattercarpet",
            "marker": {
             "colorbar": {
              "outlinewidth": 0,
              "ticks": ""
             }
            }
           }
          ],
          "carpet": [
           {
            "aaxis": {
             "endlinecolor": "#A2B1C6",
             "gridcolor": "#506784",
             "linecolor": "#506784",
             "minorgridcolor": "#506784",
             "startlinecolor": "#A2B1C6"
            },
            "baxis": {
             "endlinecolor": "#A2B1C6",
             "gridcolor": "#506784",
             "linecolor": "#506784",
             "minorgridcolor": "#506784",
             "startlinecolor": "#A2B1C6"
            },
            "type": "carpet"
           }
          ],
          "table": [
           {
            "cells": {
             "fill": {
              "color": "#506784"
             },
             "line": {
              "color": "rgb(17,17,17)"
             }
            },
            "header": {
             "fill": {
              "color": "#2a3f5f"
             },
             "line": {
              "color": "rgb(17,17,17)"
             }
            },
            "type": "table"
           }
          ],
          "barpolar": [
           {
            "marker": {
             "line": {
              "color": "rgb(17,17,17)",
              "width": 0.5
             },
             "pattern": {
              "fillmode": "overlay",
              "size": 10,
              "solidity": 0.2
             }
            },
            "type": "barpolar"
           }
          ],
          "pie": [
           {
            "automargin": true,
            "type": "pie"
           }
          ]
         },
         "layout": {
          "autotypenumbers": "strict",
          "colorway": [
           "#636efa",
           "#EF553B",
           "#00cc96",
           "#ab63fa",
           "#FFA15A",
           "#19d3f3",
           "#FF6692",
           "#B6E880",
           "#FF97FF",
           "#FECB52"
          ],
          "font": {
           "color": "#f2f5fa"
          },
          "hovermode": "closest",
          "hoverlabel": {
           "align": "left"
          },
          "paper_bgcolor": "rgb(17,17,17)",
          "plot_bgcolor": "rgb(17,17,17)",
          "polar": {
           "bgcolor": "rgb(17,17,17)",
           "angularaxis": {
            "gridcolor": "#506784",
            "linecolor": "#506784",
            "ticks": ""
           },
           "radialaxis": {
            "gridcolor": "#506784",
            "linecolor": "#506784",
            "ticks": ""
           }
          },
          "ternary": {
           "bgcolor": "rgb(17,17,17)",
           "aaxis": {
            "gridcolor": "#506784",
            "linecolor": "#506784",
            "ticks": ""
           },
           "baxis": {
            "gridcolor": "#506784",
            "linecolor": "#506784",
            "ticks": ""
           },
           "caxis": {
            "gridcolor": "#506784",
            "linecolor": "#506784",
            "ticks": ""
           }
          },
          "coloraxis": {
           "colorbar": {
            "outlinewidth": 0,
            "ticks": ""
           }
          },
          "colorscale": {
           "sequential": [
            [
             0.0,
             "#0d0887"
            ],
            [
             0.1111111111111111,
             "#46039f"
            ],
            [
             0.2222222222222222,
             "#7201a8"
            ],
            [
             0.3333333333333333,
             "#9c179e"
            ],
            [
             0.4444444444444444,
             "#bd3786"
            ],
            [
             0.5555555555555556,
             "#d8576b"
            ],
            [
             0.6666666666666666,
             "#ed7953"
            ],
            [
             0.7777777777777778,
             "#fb9f3a"
            ],
            [
             0.8888888888888888,
             "#fdca26"
            ],
            [
             1.0,
             "#f0f921"
            ]
           ],
           "sequentialminus": [
            [
             0.0,
             "#0d0887"
            ],
            [
             0.1111111111111111,
             "#46039f"
            ],
            [
             0.2222222222222222,
             "#7201a8"
            ],
            [
             0.3333333333333333,
             "#9c179e"
            ],
            [
             0.4444444444444444,
             "#bd3786"
            ],
            [
             0.5555555555555556,
             "#d8576b"
            ],
            [
             0.6666666666666666,
             "#ed7953"
            ],
            [
             0.7777777777777778,
             "#fb9f3a"
            ],
            [
             0.8888888888888888,
             "#fdca26"
            ],
            [
             1.0,
             "#f0f921"
            ]
           ],
           "diverging": [
            [
             0,
             "#8e0152"
            ],
            [
             0.1,
             "#c51b7d"
            ],
            [
             0.2,
             "#de77ae"
            ],
            [
             0.3,
             "#f1b6da"
            ],
            [
             0.4,
             "#fde0ef"
            ],
            [
             0.5,
             "#f7f7f7"
            ],
            [
             0.6,
             "#e6f5d0"
            ],
            [
             0.7,
             "#b8e186"
            ],
            [
             0.8,
             "#7fbc41"
            ],
            [
             0.9,
             "#4d9221"
            ],
            [
             1,
             "#276419"
            ]
           ]
          },
          "xaxis": {
           "gridcolor": "#283442",
           "linecolor": "#506784",
           "ticks": "",
           "title": {
            "standoff": 15
           },
           "zerolinecolor": "#283442",
           "automargin": true,
           "zerolinewidth": 2
          },
          "yaxis": {
           "gridcolor": "#283442",
           "linecolor": "#506784",
           "ticks": "",
           "title": {
            "standoff": 15
           },
           "zerolinecolor": "#283442",
           "automargin": true,
           "zerolinewidth": 2
          },
          "scene": {
           "xaxis": {
            "backgroundcolor": "rgb(17,17,17)",
            "gridcolor": "#506784",
            "linecolor": "#506784",
            "showbackground": true,
            "ticks": "",
            "zerolinecolor": "#C8D4E3",
            "gridwidth": 2
           },
           "yaxis": {
            "backgroundcolor": "rgb(17,17,17)",
            "gridcolor": "#506784",
            "linecolor": "#506784",
            "showbackground": true,
            "ticks": "",
            "zerolinecolor": "#C8D4E3",
            "gridwidth": 2
           },
           "zaxis": {
            "backgroundcolor": "rgb(17,17,17)",
            "gridcolor": "#506784",
            "linecolor": "#506784",
            "showbackground": true,
            "ticks": "",
            "zerolinecolor": "#C8D4E3",
            "gridwidth": 2
           }
          },
          "shapedefaults": {
           "line": {
            "color": "#f2f5fa"
           }
          },
          "annotationdefaults": {
           "arrowcolor": "#f2f5fa",
           "arrowhead": 0,
           "arrowwidth": 1
          },
          "geo": {
           "bgcolor": "rgb(17,17,17)",
           "landcolor": "rgb(17,17,17)",
           "subunitcolor": "#506784",
           "showland": true,
           "showlakes": true,
           "lakecolor": "rgb(17,17,17)"
          },
          "title": {
           "x": 0.05
          },
          "updatemenudefaults": {
           "bgcolor": "#506784",
           "borderwidth": 0
          },
          "sliderdefaults": {
           "bgcolor": "#C8D4E3",
           "borderwidth": 1,
           "bordercolor": "rgb(17,17,17)",
           "tickwidth": 0
          },
          "mapbox": {
           "style": "dark"
          }
         }
        }
       },
       "config": {
        "plotlyServerURL": "https://plot.ly"
       }
      }
     },
     "metadata": {},
     "output_type": "display_data"
    }
   ],
   "execution_count": 56
  },
  {
   "metadata": {
    "ExecuteTime": {
     "end_time": "2025-06-30T07:52:22.166533Z",
     "start_time": "2025-06-30T07:52:21.744364Z"
    }
   },
   "cell_type": "code",
   "source": "c_df",
   "id": "2ba49037bb21a3bd",
   "outputs": [
    {
     "data": {
      "text/plain": [
       "     Sno      Date     Time State/UnionTerritory ConfirmedIndianNational  \\\n",
       "0      1  30/01/20  6:00 PM               Kerala                       1   \n",
       "1      2  31/01/20  6:00 PM               Kerala                       1   \n",
       "2      3  01/02/20  6:00 PM               Kerala                       2   \n",
       "3      4  02/02/20  6:00 PM               Kerala                       3   \n",
       "4      5  03/02/20  6:00 PM               Kerala                       3   \n",
       "..   ...       ...      ...                  ...                     ...   \n",
       "921  922  13/04/20  5:00 PM            Telengana                       -   \n",
       "922  923  13/04/20  5:00 PM              Tripura                       -   \n",
       "923  924  13/04/20  5:00 PM          Uttarakhand                       -   \n",
       "924  925  13/04/20  5:00 PM        Uttar Pradesh                       -   \n",
       "925  926  13/04/20  5:00 PM          West Bengal                       -   \n",
       "\n",
       "    ConfirmedForeignNational  Cured  Deaths  Confirmed  \n",
       "0                          0      0       0          1  \n",
       "1                          0      0       0          1  \n",
       "2                          0      0       0          2  \n",
       "3                          0      0       0          3  \n",
       "4                          0      0       0          3  \n",
       "..                       ...    ...     ...        ...  \n",
       "921                        -    100      16        562  \n",
       "922                        -      0       0          2  \n",
       "923                        -      5       0         35  \n",
       "924                        -     47       5        483  \n",
       "925                        -     29       7        152  \n",
       "\n",
       "[926 rows x 9 columns]"
      ],
      "text/html": [
       "<div>\n",
       "<style scoped>\n",
       "    .dataframe tbody tr th:only-of-type {\n",
       "        vertical-align: middle;\n",
       "    }\n",
       "\n",
       "    .dataframe tbody tr th {\n",
       "        vertical-align: top;\n",
       "    }\n",
       "\n",
       "    .dataframe thead th {\n",
       "        text-align: right;\n",
       "    }\n",
       "</style>\n",
       "<table border=\"1\" class=\"dataframe\">\n",
       "  <thead>\n",
       "    <tr style=\"text-align: right;\">\n",
       "      <th></th>\n",
       "      <th>Sno</th>\n",
       "      <th>Date</th>\n",
       "      <th>Time</th>\n",
       "      <th>State/UnionTerritory</th>\n",
       "      <th>ConfirmedIndianNational</th>\n",
       "      <th>ConfirmedForeignNational</th>\n",
       "      <th>Cured</th>\n",
       "      <th>Deaths</th>\n",
       "      <th>Confirmed</th>\n",
       "    </tr>\n",
       "  </thead>\n",
       "  <tbody>\n",
       "    <tr>\n",
       "      <th>0</th>\n",
       "      <td>1</td>\n",
       "      <td>30/01/20</td>\n",
       "      <td>6:00 PM</td>\n",
       "      <td>Kerala</td>\n",
       "      <td>1</td>\n",
       "      <td>0</td>\n",
       "      <td>0</td>\n",
       "      <td>0</td>\n",
       "      <td>1</td>\n",
       "    </tr>\n",
       "    <tr>\n",
       "      <th>1</th>\n",
       "      <td>2</td>\n",
       "      <td>31/01/20</td>\n",
       "      <td>6:00 PM</td>\n",
       "      <td>Kerala</td>\n",
       "      <td>1</td>\n",
       "      <td>0</td>\n",
       "      <td>0</td>\n",
       "      <td>0</td>\n",
       "      <td>1</td>\n",
       "    </tr>\n",
       "    <tr>\n",
       "      <th>2</th>\n",
       "      <td>3</td>\n",
       "      <td>01/02/20</td>\n",
       "      <td>6:00 PM</td>\n",
       "      <td>Kerala</td>\n",
       "      <td>2</td>\n",
       "      <td>0</td>\n",
       "      <td>0</td>\n",
       "      <td>0</td>\n",
       "      <td>2</td>\n",
       "    </tr>\n",
       "    <tr>\n",
       "      <th>3</th>\n",
       "      <td>4</td>\n",
       "      <td>02/02/20</td>\n",
       "      <td>6:00 PM</td>\n",
       "      <td>Kerala</td>\n",
       "      <td>3</td>\n",
       "      <td>0</td>\n",
       "      <td>0</td>\n",
       "      <td>0</td>\n",
       "      <td>3</td>\n",
       "    </tr>\n",
       "    <tr>\n",
       "      <th>4</th>\n",
       "      <td>5</td>\n",
       "      <td>03/02/20</td>\n",
       "      <td>6:00 PM</td>\n",
       "      <td>Kerala</td>\n",
       "      <td>3</td>\n",
       "      <td>0</td>\n",
       "      <td>0</td>\n",
       "      <td>0</td>\n",
       "      <td>3</td>\n",
       "    </tr>\n",
       "    <tr>\n",
       "      <th>...</th>\n",
       "      <td>...</td>\n",
       "      <td>...</td>\n",
       "      <td>...</td>\n",
       "      <td>...</td>\n",
       "      <td>...</td>\n",
       "      <td>...</td>\n",
       "      <td>...</td>\n",
       "      <td>...</td>\n",
       "      <td>...</td>\n",
       "    </tr>\n",
       "    <tr>\n",
       "      <th>921</th>\n",
       "      <td>922</td>\n",
       "      <td>13/04/20</td>\n",
       "      <td>5:00 PM</td>\n",
       "      <td>Telengana</td>\n",
       "      <td>-</td>\n",
       "      <td>-</td>\n",
       "      <td>100</td>\n",
       "      <td>16</td>\n",
       "      <td>562</td>\n",
       "    </tr>\n",
       "    <tr>\n",
       "      <th>922</th>\n",
       "      <td>923</td>\n",
       "      <td>13/04/20</td>\n",
       "      <td>5:00 PM</td>\n",
       "      <td>Tripura</td>\n",
       "      <td>-</td>\n",
       "      <td>-</td>\n",
       "      <td>0</td>\n",
       "      <td>0</td>\n",
       "      <td>2</td>\n",
       "    </tr>\n",
       "    <tr>\n",
       "      <th>923</th>\n",
       "      <td>924</td>\n",
       "      <td>13/04/20</td>\n",
       "      <td>5:00 PM</td>\n",
       "      <td>Uttarakhand</td>\n",
       "      <td>-</td>\n",
       "      <td>-</td>\n",
       "      <td>5</td>\n",
       "      <td>0</td>\n",
       "      <td>35</td>\n",
       "    </tr>\n",
       "    <tr>\n",
       "      <th>924</th>\n",
       "      <td>925</td>\n",
       "      <td>13/04/20</td>\n",
       "      <td>5:00 PM</td>\n",
       "      <td>Uttar Pradesh</td>\n",
       "      <td>-</td>\n",
       "      <td>-</td>\n",
       "      <td>47</td>\n",
       "      <td>5</td>\n",
       "      <td>483</td>\n",
       "    </tr>\n",
       "    <tr>\n",
       "      <th>925</th>\n",
       "      <td>926</td>\n",
       "      <td>13/04/20</td>\n",
       "      <td>5:00 PM</td>\n",
       "      <td>West Bengal</td>\n",
       "      <td>-</td>\n",
       "      <td>-</td>\n",
       "      <td>29</td>\n",
       "      <td>7</td>\n",
       "      <td>152</td>\n",
       "    </tr>\n",
       "  </tbody>\n",
       "</table>\n",
       "<p>926 rows × 9 columns</p>\n",
       "</div>"
      ]
     },
     "execution_count": 57,
     "metadata": {},
     "output_type": "execute_result"
    }
   ],
   "execution_count": 57
  },
  {
   "metadata": {
    "ExecuteTime": {
     "end_time": "2025-06-30T07:52:53.661828Z",
     "start_time": "2025-06-30T07:52:53.404019Z"
    }
   },
   "cell_type": "code",
   "source": "c_df.info()",
   "id": "88e6f3cc078df0f2",
   "outputs": [
    {
     "name": "stdout",
     "output_type": "stream",
     "text": [
      "<class 'pandas.core.frame.DataFrame'>\n",
      "RangeIndex: 926 entries, 0 to 925\n",
      "Data columns (total 9 columns):\n",
      " #   Column                    Non-Null Count  Dtype \n",
      "---  ------                    --------------  ----- \n",
      " 0   Sno                       926 non-null    int64 \n",
      " 1   Date                      926 non-null    object\n",
      " 2   Time                      926 non-null    object\n",
      " 3   State/UnionTerritory      926 non-null    object\n",
      " 4   ConfirmedIndianNational   926 non-null    object\n",
      " 5   ConfirmedForeignNational  926 non-null    object\n",
      " 6   Cured                     926 non-null    int64 \n",
      " 7   Deaths                    926 non-null    int64 \n",
      " 8   Confirmed                 926 non-null    int64 \n",
      "dtypes: int64(4), object(5)\n",
      "memory usage: 65.2+ KB\n"
     ]
    }
   ],
   "execution_count": 58
  },
  {
   "metadata": {
    "ExecuteTime": {
     "end_time": "2025-06-30T07:55:44.673919Z",
     "start_time": "2025-06-30T07:55:44.652876Z"
    }
   },
   "cell_type": "code",
   "source": "temp_df = c_df[['Date','Confirmed']]",
   "id": "48d8fb49a7551ab9",
   "outputs": [],
   "execution_count": 63
  },
  {
   "metadata": {
    "ExecuteTime": {
     "end_time": "2025-06-30T07:55:46.929021Z",
     "start_time": "2025-06-30T07:55:46.901392Z"
    }
   },
   "cell_type": "code",
   "source": "temp_df",
   "id": "d5c8592df6047f4",
   "outputs": [
    {
     "data": {
      "text/plain": [
       "         Date  Confirmed\n",
       "0    30/01/20          1\n",
       "1    31/01/20          1\n",
       "2    01/02/20          2\n",
       "3    02/02/20          3\n",
       "4    03/02/20          3\n",
       "..        ...        ...\n",
       "921  13/04/20        562\n",
       "922  13/04/20          2\n",
       "923  13/04/20         35\n",
       "924  13/04/20        483\n",
       "925  13/04/20        152\n",
       "\n",
       "[926 rows x 2 columns]"
      ],
      "text/html": [
       "<div>\n",
       "<style scoped>\n",
       "    .dataframe tbody tr th:only-of-type {\n",
       "        vertical-align: middle;\n",
       "    }\n",
       "\n",
       "    .dataframe tbody tr th {\n",
       "        vertical-align: top;\n",
       "    }\n",
       "\n",
       "    .dataframe thead th {\n",
       "        text-align: right;\n",
       "    }\n",
       "</style>\n",
       "<table border=\"1\" class=\"dataframe\">\n",
       "  <thead>\n",
       "    <tr style=\"text-align: right;\">\n",
       "      <th></th>\n",
       "      <th>Date</th>\n",
       "      <th>Confirmed</th>\n",
       "    </tr>\n",
       "  </thead>\n",
       "  <tbody>\n",
       "    <tr>\n",
       "      <th>0</th>\n",
       "      <td>30/01/20</td>\n",
       "      <td>1</td>\n",
       "    </tr>\n",
       "    <tr>\n",
       "      <th>1</th>\n",
       "      <td>31/01/20</td>\n",
       "      <td>1</td>\n",
       "    </tr>\n",
       "    <tr>\n",
       "      <th>2</th>\n",
       "      <td>01/02/20</td>\n",
       "      <td>2</td>\n",
       "    </tr>\n",
       "    <tr>\n",
       "      <th>3</th>\n",
       "      <td>02/02/20</td>\n",
       "      <td>3</td>\n",
       "    </tr>\n",
       "    <tr>\n",
       "      <th>4</th>\n",
       "      <td>03/02/20</td>\n",
       "      <td>3</td>\n",
       "    </tr>\n",
       "    <tr>\n",
       "      <th>...</th>\n",
       "      <td>...</td>\n",
       "      <td>...</td>\n",
       "    </tr>\n",
       "    <tr>\n",
       "      <th>921</th>\n",
       "      <td>13/04/20</td>\n",
       "      <td>562</td>\n",
       "    </tr>\n",
       "    <tr>\n",
       "      <th>922</th>\n",
       "      <td>13/04/20</td>\n",
       "      <td>2</td>\n",
       "    </tr>\n",
       "    <tr>\n",
       "      <th>923</th>\n",
       "      <td>13/04/20</td>\n",
       "      <td>35</td>\n",
       "    </tr>\n",
       "    <tr>\n",
       "      <th>924</th>\n",
       "      <td>13/04/20</td>\n",
       "      <td>483</td>\n",
       "    </tr>\n",
       "    <tr>\n",
       "      <th>925</th>\n",
       "      <td>13/04/20</td>\n",
       "      <td>152</td>\n",
       "    </tr>\n",
       "  </tbody>\n",
       "</table>\n",
       "<p>926 rows × 2 columns</p>\n",
       "</div>"
      ]
     },
     "execution_count": 64,
     "metadata": {},
     "output_type": "execute_result"
    }
   ],
   "execution_count": 64
  },
  {
   "metadata": {
    "ExecuteTime": {
     "end_time": "2025-06-30T08:03:13.214647Z",
     "start_time": "2025-06-30T08:03:13.122241Z"
    }
   },
   "cell_type": "code",
   "source": [
    "fig = go.Figure(\n",
    "    data=[\n",
    "        go.Scatter(\n",
    "            x=temp_df['Date'],\n",
    "            y=temp_df['Confirmed'],\n",
    "            mode='lines',\n",
    "            name='Confirmed Cases'\n",
    "        )\n",
    "    ]\n",
    ")\n",
    "fig.show()"
   ],
   "id": "80979a54014d743f",
   "outputs": [
    {
     "data": {
      "application/vnd.plotly.v1+json": {
       "data": [
        {
         "mode": "lines",
         "name": "Confirmed Cases",
         "x": [
          "30/01/20",
          "31/01/20",
          "01/02/20",
          "02/02/20",
          "03/02/20",
          "04/02/20",
          "05/02/20",
          "06/02/20",
          "07/02/20",
          "08/02/20",
          "09/02/20",
          "10/02/20",
          "11/02/20",
          "12/02/20",
          "13/02/20",
          "14/02/20",
          "15/02/20",
          "16/02/20",
          "17/02/20",
          "18/02/20",
          "19/02/20",
          "20/02/20",
          "21/02/20",
          "22/02/20",
          "23/02/20",
          "24/02/20",
          "25/02/20",
          "26/02/20",
          "27/02/20",
          "28/02/20",
          "29/02/20",
          "01/03/20",
          "02/03/20",
          "02/03/20",
          "02/03/20",
          "03/03/20",
          "03/03/20",
          "03/03/20",
          "03/03/20",
          "04/03/20",
          "04/03/20",
          "04/03/20",
          "04/03/20",
          "04/03/20",
          "04/03/20",
          "05/03/20",
          "05/03/20",
          "05/03/20",
          "05/03/20",
          "05/03/20",
          "05/03/20",
          "06/03/20",
          "06/03/20",
          "06/03/20",
          "06/03/20",
          "06/03/20",
          "06/03/20",
          "07/03/20",
          "07/03/20",
          "07/03/20",
          "07/03/20",
          "07/03/20",
          "07/03/20",
          "07/03/20",
          "07/03/20",
          "08/03/20",
          "08/03/20",
          "08/03/20",
          "08/03/20",
          "08/03/20",
          "08/03/20",
          "08/03/20",
          "08/03/20",
          "09/03/20",
          "09/03/20",
          "09/03/20",
          "09/03/20",
          "09/03/20",
          "09/03/20",
          "09/03/20",
          "09/03/20",
          "09/03/20",
          "09/03/20",
          "09/03/20",
          "09/03/20",
          "10/03/20",
          "10/03/20",
          "10/03/20",
          "10/03/20",
          "10/03/20",
          "10/03/20",
          "10/03/20",
          "10/03/20",
          "10/03/20",
          "10/03/20",
          "10/03/20",
          "10/03/20",
          "11/03/20",
          "11/03/20",
          "11/03/20",
          "11/03/20",
          "11/03/20",
          "11/03/20",
          "11/03/20",
          "11/03/20",
          "11/03/20",
          "11/03/20",
          "11/03/20",
          "11/03/20",
          "12/03/20",
          "12/03/20",
          "12/03/20",
          "12/03/20",
          "12/03/20",
          "12/03/20",
          "12/03/20",
          "12/03/20",
          "12/03/20",
          "12/03/20",
          "12/03/20",
          "12/03/20",
          "12/03/20",
          "13/03/20",
          "13/03/20",
          "13/03/20",
          "13/03/20",
          "13/03/20",
          "13/03/20",
          "13/03/20",
          "13/03/20",
          "13/03/20",
          "13/03/20",
          "13/03/20",
          "13/03/20",
          "13/03/20",
          "14/03/20",
          "14/03/20",
          "14/03/20",
          "14/03/20",
          "14/03/20",
          "14/03/20",
          "14/03/20",
          "14/03/20",
          "14/03/20",
          "14/03/20",
          "14/03/20",
          "14/03/20",
          "14/03/20",
          "15/03/20",
          "15/03/20",
          "15/03/20",
          "15/03/20",
          "15/03/20",
          "15/03/20",
          "15/03/20",
          "15/03/20",
          "15/03/20",
          "15/03/20",
          "15/03/20",
          "15/03/20",
          "15/03/20",
          "15/03/20",
          "16/03/20",
          "16/03/20",
          "16/03/20",
          "16/03/20",
          "16/03/20",
          "16/03/20",
          "16/03/20",
          "16/03/20",
          "16/03/20",
          "16/03/20",
          "16/03/20",
          "16/03/20",
          "16/03/20",
          "16/03/20",
          "16/03/20",
          "17/03/20",
          "17/03/20",
          "17/03/20",
          "17/03/20",
          "17/03/20",
          "17/03/20",
          "17/03/20",
          "17/03/20",
          "17/03/20",
          "17/03/20",
          "17/03/20",
          "17/03/20",
          "17/03/20",
          "17/03/20",
          "17/03/20",
          "18/03/20",
          "18/03/20",
          "18/03/20",
          "18/03/20",
          "18/03/20",
          "18/03/20",
          "18/03/20",
          "18/03/20",
          "18/03/20",
          "18/03/20",
          "18/03/20",
          "18/03/20",
          "18/03/20",
          "18/03/20",
          "18/03/20",
          "18/03/20",
          "18/03/20",
          "19/03/20",
          "19/03/20",
          "19/03/20",
          "19/03/20",
          "19/03/20",
          "19/03/20",
          "19/03/20",
          "19/03/20",
          "19/03/20",
          "19/03/20",
          "19/03/20",
          "19/03/20",
          "19/03/20",
          "19/03/20",
          "19/03/20",
          "19/03/20",
          "19/03/20",
          "19/03/20",
          "19/03/20",
          "20/03/20",
          "20/03/20",
          "20/03/20",
          "20/03/20",
          "20/03/20",
          "20/03/20",
          "20/03/20",
          "20/03/20",
          "20/03/20",
          "20/03/20",
          "20/03/20",
          "20/03/20",
          "20/03/20",
          "20/03/20",
          "20/03/20",
          "20/03/20",
          "20/03/20",
          "20/03/20",
          "20/03/20",
          "20/03/20",
          "21/03/20",
          "21/03/20",
          "21/03/20",
          "21/03/20",
          "21/03/20",
          "21/03/20",
          "21/03/20",
          "21/03/20",
          "21/03/20",
          "21/03/20",
          "21/03/20",
          "21/03/20",
          "21/03/20",
          "21/03/20",
          "21/03/20",
          "21/03/20",
          "21/03/20",
          "21/03/20",
          "21/03/20",
          "21/03/20",
          "21/03/20",
          "21/03/20",
          "22/03/20",
          "22/03/20",
          "22/03/20",
          "22/03/20",
          "22/03/20",
          "22/03/20",
          "22/03/20",
          "22/03/20",
          "22/03/20",
          "22/03/20",
          "22/03/20",
          "22/03/20",
          "22/03/20",
          "22/03/20",
          "22/03/20",
          "22/03/20",
          "22/03/20",
          "22/03/20",
          "22/03/20",
          "22/03/20",
          "22/03/20",
          "22/03/20",
          "22/03/20",
          "23/03/20",
          "23/03/20",
          "23/03/20",
          "23/03/20",
          "23/03/20",
          "23/03/20",
          "23/03/20",
          "23/03/20",
          "23/03/20",
          "23/03/20",
          "23/03/20",
          "23/03/20",
          "23/03/20",
          "23/03/20",
          "23/03/20",
          "23/03/20",
          "23/03/20",
          "23/03/20",
          "23/03/20",
          "23/03/20",
          "23/03/20",
          "23/03/20",
          "23/03/20",
          "24/03/20",
          "24/03/20",
          "24/03/20",
          "24/03/20",
          "24/03/20",
          "24/03/20",
          "24/03/20",
          "24/03/20",
          "24/03/20",
          "24/03/20",
          "24/03/20",
          "24/03/20",
          "24/03/20",
          "24/03/20",
          "24/03/20",
          "24/03/20",
          "24/03/20",
          "24/03/20",
          "24/03/20",
          "24/03/20",
          "24/03/20",
          "24/03/20",
          "24/03/20",
          "24/03/20",
          "25/03/20",
          "25/03/20",
          "25/03/20",
          "25/03/20",
          "25/03/20",
          "25/03/20",
          "25/03/20",
          "25/03/20",
          "25/03/20",
          "25/03/20",
          "25/03/20",
          "25/03/20",
          "25/03/20",
          "25/03/20",
          "25/03/20",
          "25/03/20",
          "25/03/20",
          "25/03/20",
          "25/03/20",
          "25/03/20",
          "25/03/20",
          "25/03/20",
          "25/03/20",
          "25/03/20",
          "25/03/20",
          "26/03/20",
          "26/03/20",
          "26/03/20",
          "26/03/20",
          "26/03/20",
          "26/03/20",
          "26/03/20",
          "26/03/20",
          "26/03/20",
          "26/03/20",
          "26/03/20",
          "26/03/20",
          "26/03/20",
          "26/03/20",
          "26/03/20",
          "26/03/20",
          "26/03/20",
          "26/03/20",
          "26/03/20",
          "26/03/20",
          "26/03/20",
          "26/03/20",
          "26/03/20",
          "26/03/20",
          "26/03/20",
          "26/03/20",
          "26/03/20",
          "27/03/20",
          "27/03/20",
          "27/03/20",
          "27/03/20",
          "27/03/20",
          "27/03/20",
          "27/03/20",
          "27/03/20",
          "27/03/20",
          "27/03/20",
          "27/03/20",
          "27/03/20",
          "27/03/20",
          "27/03/20",
          "27/03/20",
          "27/03/20",
          "27/03/20",
          "27/03/20",
          "27/03/20",
          "27/03/20",
          "27/03/20",
          "27/03/20",
          "27/03/20",
          "27/03/20",
          "27/03/20",
          "27/03/20",
          "27/03/20",
          "28/03/20",
          "28/03/20",
          "28/03/20",
          "28/03/20",
          "28/03/20",
          "28/03/20",
          "28/03/20",
          "28/03/20",
          "28/03/20",
          "28/03/20",
          "28/03/20",
          "28/03/20",
          "28/03/20",
          "28/03/20",
          "28/03/20",
          "28/03/20",
          "28/03/20",
          "28/03/20",
          "28/03/20",
          "28/03/20",
          "28/03/20",
          "28/03/20",
          "28/03/20",
          "28/03/20",
          "28/03/20",
          "28/03/20",
          "28/03/20",
          "29/03/20",
          "29/03/20",
          "29/03/20",
          "29/03/20",
          "29/03/20",
          "29/03/20",
          "29/03/20",
          "29/03/20",
          "29/03/20",
          "29/03/20",
          "29/03/20",
          "29/03/20",
          "29/03/20",
          "29/03/20",
          "29/03/20",
          "29/03/20",
          "29/03/20",
          "29/03/20",
          "29/03/20",
          "29/03/20",
          "29/03/20",
          "29/03/20",
          "29/03/20",
          "29/03/20",
          "29/03/20",
          "29/03/20",
          "29/03/20",
          "30/03/20",
          "30/03/20",
          "30/03/20",
          "30/03/20",
          "30/03/20",
          "30/03/20",
          "30/03/20",
          "30/03/20",
          "30/03/20",
          "30/03/20",
          "30/03/20",
          "30/03/20",
          "30/03/20",
          "30/03/20",
          "30/03/20",
          "30/03/20",
          "30/03/20",
          "30/03/20",
          "30/03/20",
          "30/03/20",
          "30/03/20",
          "30/03/20",
          "30/03/20",
          "30/03/20",
          "30/03/20",
          "30/03/20",
          "30/03/20",
          "30/03/20",
          "31/03/20",
          "31/03/20",
          "31/03/20",
          "31/03/20",
          "31/03/20",
          "31/03/20",
          "31/03/20",
          "31/03/20",
          "31/03/20",
          "31/03/20",
          "31/03/20",
          "31/03/20",
          "31/03/20",
          "31/03/20",
          "31/03/20",
          "31/03/20",
          "31/03/20",
          "31/03/20",
          "31/03/20",
          "31/03/20",
          "31/03/20",
          "31/03/20",
          "31/03/20",
          "31/03/20",
          "31/03/20",
          "31/03/20",
          "31/03/20",
          "31/03/20",
          "01/04/20",
          "01/04/20",
          "01/04/20",
          "01/04/20",
          "01/04/20",
          "01/04/20",
          "01/04/20",
          "01/04/20",
          "01/04/20",
          "01/04/20",
          "01/04/20",
          "01/04/20",
          "01/04/20",
          "01/04/20",
          "01/04/20",
          "01/04/20",
          "01/04/20",
          "01/04/20",
          "01/04/20",
          "01/04/20",
          "01/04/20",
          "01/04/20",
          "01/04/20",
          "01/04/20",
          "01/04/20",
          "01/04/20",
          "01/04/20",
          "01/04/20",
          "01/04/20",
          "02/04/20",
          "02/04/20",
          "02/04/20",
          "02/04/20",
          "02/04/20",
          "02/04/20",
          "02/04/20",
          "02/04/20",
          "02/04/20",
          "02/04/20",
          "02/04/20",
          "02/04/20",
          "02/04/20",
          "02/04/20",
          "02/04/20",
          "02/04/20",
          "02/04/20",
          "02/04/20",
          "02/04/20",
          "02/04/20",
          "02/04/20",
          "02/04/20",
          "02/04/20",
          "02/04/20",
          "02/04/20",
          "02/04/20",
          "02/04/20",
          "02/04/20",
          "02/04/20",
          "03/04/20",
          "03/04/20",
          "03/04/20",
          "03/04/20",
          "03/04/20",
          "03/04/20",
          "03/04/20",
          "03/04/20",
          "03/04/20",
          "03/04/20",
          "03/04/20",
          "03/04/20",
          "03/04/20",
          "03/04/20",
          "03/04/20",
          "03/04/20",
          "03/04/20",
          "03/04/20",
          "03/04/20",
          "03/04/20",
          "03/04/20",
          "03/04/20",
          "03/04/20",
          "03/04/20",
          "03/04/20",
          "03/04/20",
          "03/04/20",
          "03/04/20",
          "03/04/20",
          "03/04/20",
          "03/04/20",
          "04/04/20",
          "04/04/20",
          "04/04/20",
          "04/04/20",
          "04/04/20",
          "04/04/20",
          "04/04/20",
          "04/04/20",
          "04/04/20",
          "04/04/20",
          "04/04/20",
          "04/04/20",
          "04/04/20",
          "04/04/20",
          "04/04/20",
          "04/04/20",
          "04/04/20",
          "04/04/20",
          "04/04/20",
          "04/04/20",
          "04/04/20",
          "04/04/20",
          "04/04/20",
          "04/04/20",
          "04/04/20",
          "04/04/20",
          "04/04/20",
          "04/04/20",
          "04/04/20",
          "04/04/20",
          "05/04/20",
          "05/04/20",
          "05/04/20",
          "05/04/20",
          "05/04/20",
          "05/04/20",
          "05/04/20",
          "05/04/20",
          "05/04/20",
          "05/04/20",
          "05/04/20",
          "05/04/20",
          "05/04/20",
          "05/04/20",
          "05/04/20",
          "05/04/20",
          "05/04/20",
          "05/04/20",
          "05/04/20",
          "05/04/20",
          "05/04/20",
          "05/04/20",
          "05/04/20",
          "05/04/20",
          "05/04/20",
          "05/04/20",
          "05/04/20",
          "05/04/20",
          "05/04/20",
          "05/04/20",
          "06/04/20",
          "06/04/20",
          "06/04/20",
          "06/04/20",
          "06/04/20",
          "06/04/20",
          "06/04/20",
          "06/04/20",
          "06/04/20",
          "06/04/20",
          "06/04/20",
          "06/04/20",
          "06/04/20",
          "06/04/20",
          "06/04/20",
          "06/04/20",
          "06/04/20",
          "06/04/20",
          "06/04/20",
          "06/04/20",
          "06/04/20",
          "06/04/20",
          "06/04/20",
          "06/04/20",
          "06/04/20",
          "06/04/20",
          "06/04/20",
          "06/04/20",
          "06/04/20",
          "06/04/20",
          "07/04/20",
          "07/04/20",
          "07/04/20",
          "07/04/20",
          "07/04/20",
          "07/04/20",
          "07/04/20",
          "07/04/20",
          "07/04/20",
          "07/04/20",
          "07/04/20",
          "07/04/20",
          "07/04/20",
          "07/04/20",
          "07/04/20",
          "07/04/20",
          "07/04/20",
          "07/04/20",
          "07/04/20",
          "07/04/20",
          "07/04/20",
          "07/04/20",
          "07/04/20",
          "07/04/20",
          "07/04/20",
          "07/04/20",
          "07/04/20",
          "07/04/20",
          "07/04/20",
          "07/04/20",
          "07/04/20",
          "08/04/20",
          "08/04/20",
          "08/04/20",
          "08/04/20",
          "08/04/20",
          "08/04/20",
          "08/04/20",
          "08/04/20",
          "08/04/20",
          "08/04/20",
          "08/04/20",
          "08/04/20",
          "08/04/20",
          "08/04/20",
          "08/04/20",
          "08/04/20",
          "08/04/20",
          "08/04/20",
          "08/04/20",
          "08/04/20",
          "08/04/20",
          "08/04/20",
          "08/04/20",
          "08/04/20",
          "08/04/20",
          "08/04/20",
          "08/04/20",
          "08/04/20",
          "08/04/20",
          "08/04/20",
          "08/04/20",
          "09/04/20",
          "09/04/20",
          "09/04/20",
          "09/04/20",
          "09/04/20",
          "09/04/20",
          "09/04/20",
          "09/04/20",
          "09/04/20",
          "09/04/20",
          "09/04/20",
          "09/04/20",
          "09/04/20",
          "09/04/20",
          "09/04/20",
          "09/04/20",
          "09/04/20",
          "09/04/20",
          "09/04/20",
          "09/04/20",
          "09/04/20",
          "09/04/20",
          "09/04/20",
          "09/04/20",
          "09/04/20",
          "09/04/20",
          "09/04/20",
          "09/04/20",
          "09/04/20",
          "09/04/20",
          "09/04/20",
          "10/04/20",
          "10/04/20",
          "10/04/20",
          "10/04/20",
          "10/04/20",
          "10/04/20",
          "10/04/20",
          "10/04/20",
          "10/04/20",
          "10/04/20",
          "10/04/20",
          "10/04/20",
          "10/04/20",
          "10/04/20",
          "10/04/20",
          "10/04/20",
          "10/04/20",
          "10/04/20",
          "10/04/20",
          "10/04/20",
          "10/04/20",
          "10/04/20",
          "10/04/20",
          "10/04/20",
          "10/04/20",
          "10/04/20",
          "10/04/20",
          "10/04/20",
          "10/04/20",
          "10/04/20",
          "10/04/20",
          "11/04/20",
          "11/04/20",
          "11/04/20",
          "11/04/20",
          "11/04/20",
          "11/04/20",
          "11/04/20",
          "11/04/20",
          "11/04/20",
          "11/04/20",
          "11/04/20",
          "11/04/20",
          "11/04/20",
          "11/04/20",
          "11/04/20",
          "11/04/20",
          "11/04/20",
          "11/04/20",
          "11/04/20",
          "11/04/20",
          "11/04/20",
          "11/04/20",
          "11/04/20",
          "11/04/20",
          "11/04/20",
          "11/04/20",
          "11/04/20",
          "11/04/20",
          "11/04/20",
          "11/04/20",
          "11/04/20",
          "12/04/20",
          "12/04/20",
          "12/04/20",
          "12/04/20",
          "12/04/20",
          "12/04/20",
          "12/04/20",
          "12/04/20",
          "12/04/20",
          "12/04/20",
          "12/04/20",
          "12/04/20",
          "12/04/20",
          "12/04/20",
          "12/04/20",
          "12/04/20",
          "12/04/20",
          "12/04/20",
          "12/04/20",
          "12/04/20",
          "12/04/20",
          "12/04/20",
          "12/04/20",
          "12/04/20",
          "12/04/20",
          "12/04/20",
          "12/04/20",
          "12/04/20",
          "12/04/20",
          "12/04/20",
          "12/04/20",
          "13/04/20",
          "13/04/20",
          "13/04/20",
          "13/04/20",
          "13/04/20",
          "13/04/20",
          "13/04/20",
          "13/04/20",
          "13/04/20",
          "13/04/20",
          "13/04/20",
          "13/04/20",
          "13/04/20",
          "13/04/20",
          "13/04/20",
          "13/04/20",
          "13/04/20",
          "13/04/20",
          "13/04/20",
          "13/04/20",
          "13/04/20",
          "13/04/20",
          "13/04/20",
          "13/04/20",
          "13/04/20",
          "13/04/20",
          "13/04/20",
          "13/04/20",
          "13/04/20",
          "13/04/20",
          "13/04/20",
          "13/04/20"
         ],
         "y": {
          "dtype": "i2",
          "bdata": "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"
         },
         "type": "scatter"
        }
       ],
       "layout": {
        "template": {
         "data": {
          "histogram2dcontour": [
           {
            "type": "histogram2dcontour",
            "colorbar": {
             "outlinewidth": 0,
             "ticks": ""
            },
            "colorscale": [
             [
              0.0,
              "#0d0887"
             ],
             [
              0.1111111111111111,
              "#46039f"
             ],
             [
              0.2222222222222222,
              "#7201a8"
             ],
             [
              0.3333333333333333,
              "#9c179e"
             ],
             [
              0.4444444444444444,
              "#bd3786"
             ],
             [
              0.5555555555555556,
              "#d8576b"
             ],
             [
              0.6666666666666666,
              "#ed7953"
             ],
             [
              0.7777777777777778,
              "#fb9f3a"
             ],
             [
              0.8888888888888888,
              "#fdca26"
             ],
             [
              1.0,
              "#f0f921"
             ]
            ]
           }
          ],
          "choropleth": [
           {
            "type": "choropleth",
            "colorbar": {
             "outlinewidth": 0,
             "ticks": ""
            }
           }
          ],
          "histogram2d": [
           {
            "type": "histogram2d",
            "colorbar": {
             "outlinewidth": 0,
             "ticks": ""
            },
            "colorscale": [
             [
              0.0,
              "#0d0887"
             ],
             [
              0.1111111111111111,
              "#46039f"
             ],
             [
              0.2222222222222222,
              "#7201a8"
             ],
             [
              0.3333333333333333,
              "#9c179e"
             ],
             [
              0.4444444444444444,
              "#bd3786"
             ],
             [
              0.5555555555555556,
              "#d8576b"
             ],
             [
              0.6666666666666666,
              "#ed7953"
             ],
             [
              0.7777777777777778,
              "#fb9f3a"
             ],
             [
              0.8888888888888888,
              "#fdca26"
             ],
             [
              1.0,
              "#f0f921"
             ]
            ]
           }
          ],
          "heatmap": [
           {
            "type": "heatmap",
            "colorbar": {
             "outlinewidth": 0,
             "ticks": ""
            },
            "colorscale": [
             [
              0.0,
              "#0d0887"
             ],
             [
              0.1111111111111111,
              "#46039f"
             ],
             [
              0.2222222222222222,
              "#7201a8"
             ],
             [
              0.3333333333333333,
              "#9c179e"
             ],
             [
              0.4444444444444444,
              "#bd3786"
             ],
             [
              0.5555555555555556,
              "#d8576b"
             ],
             [
              0.6666666666666666,
              "#ed7953"
             ],
             [
              0.7777777777777778,
              "#fb9f3a"
             ],
             [
              0.8888888888888888,
              "#fdca26"
             ],
             [
              1.0,
              "#f0f921"
             ]
            ]
           }
          ],
          "contourcarpet": [
           {
            "type": "contourcarpet",
            "colorbar": {
             "outlinewidth": 0,
             "ticks": ""
            }
           }
          ],
          "contour": [
           {
            "type": "contour",
            "colorbar": {
             "outlinewidth": 0,
             "ticks": ""
            },
            "colorscale": [
             [
              0.0,
              "#0d0887"
             ],
             [
              0.1111111111111111,
              "#46039f"
             ],
             [
              0.2222222222222222,
              "#7201a8"
             ],
             [
              0.3333333333333333,
              "#9c179e"
             ],
             [
              0.4444444444444444,
              "#bd3786"
             ],
             [
              0.5555555555555556,
              "#d8576b"
             ],
             [
              0.6666666666666666,
              "#ed7953"
             ],
             [
              0.7777777777777778,
              "#fb9f3a"
             ],
             [
              0.8888888888888888,
              "#fdca26"
             ],
             [
              1.0,
              "#f0f921"
             ]
            ]
           }
          ],
          "surface": [
           {
            "type": "surface",
            "colorbar": {
             "outlinewidth": 0,
             "ticks": ""
            },
            "colorscale": [
             [
              0.0,
              "#0d0887"
             ],
             [
              0.1111111111111111,
              "#46039f"
             ],
             [
              0.2222222222222222,
              "#7201a8"
             ],
             [
              0.3333333333333333,
              "#9c179e"
             ],
             [
              0.4444444444444444,
              "#bd3786"
             ],
             [
              0.5555555555555556,
              "#d8576b"
             ],
             [
              0.6666666666666666,
              "#ed7953"
             ],
             [
              0.7777777777777778,
              "#fb9f3a"
             ],
             [
              0.8888888888888888,
              "#fdca26"
             ],
             [
              1.0,
              "#f0f921"
             ]
            ]
           }
          ],
          "mesh3d": [
           {
            "type": "mesh3d",
            "colorbar": {
             "outlinewidth": 0,
             "ticks": ""
            }
           }
          ],
          "scatter": [
           {
            "marker": {
             "line": {
              "color": "#283442"
             }
            },
            "type": "scatter"
           }
          ],
          "parcoords": [
           {
            "type": "parcoords",
            "line": {
             "colorbar": {
              "outlinewidth": 0,
              "ticks": ""
             }
            }
           }
          ],
          "scatterpolargl": [
           {
            "type": "scatterpolargl",
            "marker": {
             "colorbar": {
              "outlinewidth": 0,
              "ticks": ""
             }
            }
           }
          ],
          "bar": [
           {
            "error_x": {
             "color": "#f2f5fa"
            },
            "error_y": {
             "color": "#f2f5fa"
            },
            "marker": {
             "line": {
              "color": "rgb(17,17,17)",
              "width": 0.5
             },
             "pattern": {
              "fillmode": "overlay",
              "size": 10,
              "solidity": 0.2
             }
            },
            "type": "bar"
           }
          ],
          "scattergeo": [
           {
            "type": "scattergeo",
            "marker": {
             "colorbar": {
              "outlinewidth": 0,
              "ticks": ""
             }
            }
           }
          ],
          "scatterpolar": [
           {
            "type": "scatterpolar",
            "marker": {
             "colorbar": {
              "outlinewidth": 0,
              "ticks": ""
             }
            }
           }
          ],
          "histogram": [
           {
            "marker": {
             "pattern": {
              "fillmode": "overlay",
              "size": 10,
              "solidity": 0.2
             }
            },
            "type": "histogram"
           }
          ],
          "scattergl": [
           {
            "marker": {
             "line": {
              "color": "#283442"
             }
            },
            "type": "scattergl"
           }
          ],
          "scatter3d": [
           {
            "type": "scatter3d",
            "line": {
             "colorbar": {
              "outlinewidth": 0,
              "ticks": ""
             }
            },
            "marker": {
             "colorbar": {
              "outlinewidth": 0,
              "ticks": ""
             }
            }
           }
          ],
          "scattermap": [
           {
            "type": "scattermap",
            "marker": {
             "colorbar": {
              "outlinewidth": 0,
              "ticks": ""
             }
            }
           }
          ],
          "scattermapbox": [
           {
            "type": "scattermapbox",
            "marker": {
             "colorbar": {
              "outlinewidth": 0,
              "ticks": ""
             }
            }
           }
          ],
          "scatterternary": [
           {
            "type": "scatterternary",
            "marker": {
             "colorbar": {
              "outlinewidth": 0,
              "ticks": ""
             }
            }
           }
          ],
          "scattercarpet": [
           {
            "type": "scattercarpet",
            "marker": {
             "colorbar": {
              "outlinewidth": 0,
              "ticks": ""
             }
            }
           }
          ],
          "carpet": [
           {
            "aaxis": {
             "endlinecolor": "#A2B1C6",
             "gridcolor": "#506784",
             "linecolor": "#506784",
             "minorgridcolor": "#506784",
             "startlinecolor": "#A2B1C6"
            },
            "baxis": {
             "endlinecolor": "#A2B1C6",
             "gridcolor": "#506784",
             "linecolor": "#506784",
             "minorgridcolor": "#506784",
             "startlinecolor": "#A2B1C6"
            },
            "type": "carpet"
           }
          ],
          "table": [
           {
            "cells": {
             "fill": {
              "color": "#506784"
             },
             "line": {
              "color": "rgb(17,17,17)"
             }
            },
            "header": {
             "fill": {
              "color": "#2a3f5f"
             },
             "line": {
              "color": "rgb(17,17,17)"
             }
            },
            "type": "table"
           }
          ],
          "barpolar": [
           {
            "marker": {
             "line": {
              "color": "rgb(17,17,17)",
              "width": 0.5
             },
             "pattern": {
              "fillmode": "overlay",
              "size": 10,
              "solidity": 0.2
             }
            },
            "type": "barpolar"
           }
          ],
          "pie": [
           {
            "automargin": true,
            "type": "pie"
           }
          ]
         },
         "layout": {
          "autotypenumbers": "strict",
          "colorway": [
           "#636efa",
           "#EF553B",
           "#00cc96",
           "#ab63fa",
           "#FFA15A",
           "#19d3f3",
           "#FF6692",
           "#B6E880",
           "#FF97FF",
           "#FECB52"
          ],
          "font": {
           "color": "#f2f5fa"
          },
          "hovermode": "closest",
          "hoverlabel": {
           "align": "left"
          },
          "paper_bgcolor": "rgb(17,17,17)",
          "plot_bgcolor": "rgb(17,17,17)",
          "polar": {
           "bgcolor": "rgb(17,17,17)",
           "angularaxis": {
            "gridcolor": "#506784",
            "linecolor": "#506784",
            "ticks": ""
           },
           "radialaxis": {
            "gridcolor": "#506784",
            "linecolor": "#506784",
            "ticks": ""
           }
          },
          "ternary": {
           "bgcolor": "rgb(17,17,17)",
           "aaxis": {
            "gridcolor": "#506784",
            "linecolor": "#506784",
            "ticks": ""
           },
           "baxis": {
            "gridcolor": "#506784",
            "linecolor": "#506784",
            "ticks": ""
           },
           "caxis": {
            "gridcolor": "#506784",
            "linecolor": "#506784",
            "ticks": ""
           }
          },
          "coloraxis": {
           "colorbar": {
            "outlinewidth": 0,
            "ticks": ""
           }
          },
          "colorscale": {
           "sequential": [
            [
             0.0,
             "#0d0887"
            ],
            [
             0.1111111111111111,
             "#46039f"
            ],
            [
             0.2222222222222222,
             "#7201a8"
            ],
            [
             0.3333333333333333,
             "#9c179e"
            ],
            [
             0.4444444444444444,
             "#bd3786"
            ],
            [
             0.5555555555555556,
             "#d8576b"
            ],
            [
             0.6666666666666666,
             "#ed7953"
            ],
            [
             0.7777777777777778,
             "#fb9f3a"
            ],
            [
             0.8888888888888888,
             "#fdca26"
            ],
            [
             1.0,
             "#f0f921"
            ]
           ],
           "sequentialminus": [
            [
             0.0,
             "#0d0887"
            ],
            [
             0.1111111111111111,
             "#46039f"
            ],
            [
             0.2222222222222222,
             "#7201a8"
            ],
            [
             0.3333333333333333,
             "#9c179e"
            ],
            [
             0.4444444444444444,
             "#bd3786"
            ],
            [
             0.5555555555555556,
             "#d8576b"
            ],
            [
             0.6666666666666666,
             "#ed7953"
            ],
            [
             0.7777777777777778,
             "#fb9f3a"
            ],
            [
             0.8888888888888888,
             "#fdca26"
            ],
            [
             1.0,
             "#f0f921"
            ]
           ],
           "diverging": [
            [
             0,
             "#8e0152"
            ],
            [
             0.1,
             "#c51b7d"
            ],
            [
             0.2,
             "#de77ae"
            ],
            [
             0.3,
             "#f1b6da"
            ],
            [
             0.4,
             "#fde0ef"
            ],
            [
             0.5,
             "#f7f7f7"
            ],
            [
             0.6,
             "#e6f5d0"
            ],
            [
             0.7,
             "#b8e186"
            ],
            [
             0.8,
             "#7fbc41"
            ],
            [
             0.9,
             "#4d9221"
            ],
            [
             1,
             "#276419"
            ]
           ]
          },
          "xaxis": {
           "gridcolor": "#283442",
           "linecolor": "#506784",
           "ticks": "",
           "title": {
            "standoff": 15
           },
           "zerolinecolor": "#283442",
           "automargin": true,
           "zerolinewidth": 2
          },
          "yaxis": {
           "gridcolor": "#283442",
           "linecolor": "#506784",
           "ticks": "",
           "title": {
            "standoff": 15
           },
           "zerolinecolor": "#283442",
           "automargin": true,
           "zerolinewidth": 2
          },
          "scene": {
           "xaxis": {
            "backgroundcolor": "rgb(17,17,17)",
            "gridcolor": "#506784",
            "linecolor": "#506784",
            "showbackground": true,
            "ticks": "",
            "zerolinecolor": "#C8D4E3",
            "gridwidth": 2
           },
           "yaxis": {
            "backgroundcolor": "rgb(17,17,17)",
            "gridcolor": "#506784",
            "linecolor": "#506784",
            "showbackground": true,
            "ticks": "",
            "zerolinecolor": "#C8D4E3",
            "gridwidth": 2
           },
           "zaxis": {
            "backgroundcolor": "rgb(17,17,17)",
            "gridcolor": "#506784",
            "linecolor": "#506784",
            "showbackground": true,
            "ticks": "",
            "zerolinecolor": "#C8D4E3",
            "gridwidth": 2
           }
          },
          "shapedefaults": {
           "line": {
            "color": "#f2f5fa"
           }
          },
          "annotationdefaults": {
           "arrowcolor": "#f2f5fa",
           "arrowhead": 0,
           "arrowwidth": 1
          },
          "geo": {
           "bgcolor": "rgb(17,17,17)",
           "landcolor": "rgb(17,17,17)",
           "subunitcolor": "#506784",
           "showland": true,
           "showlakes": true,
           "lakecolor": "rgb(17,17,17)"
          },
          "title": {
           "x": 0.05
          },
          "updatemenudefaults": {
           "bgcolor": "#506784",
           "borderwidth": 0
          },
          "sliderdefaults": {
           "bgcolor": "#C8D4E3",
           "borderwidth": 1,
           "bordercolor": "rgb(17,17,17)",
           "tickwidth": 0
          },
          "mapbox": {
           "style": "dark"
          }
         }
        }
       },
       "config": {
        "plotlyServerURL": "https://plot.ly"
       }
      }
     },
     "metadata": {},
     "output_type": "display_data"
    }
   ],
   "execution_count": 67
  },
  {
   "metadata": {
    "ExecuteTime": {
     "end_time": "2025-06-30T08:04:45.207860Z",
     "start_time": "2025-06-30T08:04:45.086372Z"
    }
   },
   "cell_type": "code",
   "source": [
    "fig = go.Figure(\n",
    "    data=[\n",
    "        go.Scatter(x=temp_df['Date'], y=temp_df['Confirmed'], mode='lines')\n",
    "    ]\n",
    ")\n",
    "\n",
    "fig.update_layout(\n",
    "    title='Confirmed Cases Over Time',\n",
    "    width=800,         # increase width (in pixels)\n",
    "    height=600,         # increase height (in pixels)\n",
    "    xaxis_title='Date',\n",
    "    yaxis_title='Confirmed'\n",
    ")"
   ],
   "id": "4b7e59c7b2dd9c35",
   "outputs": [
    {
     "data": {
      "application/vnd.plotly.v1+json": {
       "data": [
        {
         "mode": "lines",
         "x": [
          "30/01/20",
          "31/01/20",
          "01/02/20",
          "02/02/20",
          "03/02/20",
          "04/02/20",
          "05/02/20",
          "06/02/20",
          "07/02/20",
          "08/02/20",
          "09/02/20",
          "10/02/20",
          "11/02/20",
          "12/02/20",
          "13/02/20",
          "14/02/20",
          "15/02/20",
          "16/02/20",
          "17/02/20",
          "18/02/20",
          "19/02/20",
          "20/02/20",
          "21/02/20",
          "22/02/20",
          "23/02/20",
          "24/02/20",
          "25/02/20",
          "26/02/20",
          "27/02/20",
          "28/02/20",
          "29/02/20",
          "01/03/20",
          "02/03/20",
          "02/03/20",
          "02/03/20",
          "03/03/20",
          "03/03/20",
          "03/03/20",
          "03/03/20",
          "04/03/20",
          "04/03/20",
          "04/03/20",
          "04/03/20",
          "04/03/20",
          "04/03/20",
          "05/03/20",
          "05/03/20",
          "05/03/20",
          "05/03/20",
          "05/03/20",
          "05/03/20",
          "06/03/20",
          "06/03/20",
          "06/03/20",
          "06/03/20",
          "06/03/20",
          "06/03/20",
          "07/03/20",
          "07/03/20",
          "07/03/20",
          "07/03/20",
          "07/03/20",
          "07/03/20",
          "07/03/20",
          "07/03/20",
          "08/03/20",
          "08/03/20",
          "08/03/20",
          "08/03/20",
          "08/03/20",
          "08/03/20",
          "08/03/20",
          "08/03/20",
          "09/03/20",
          "09/03/20",
          "09/03/20",
          "09/03/20",
          "09/03/20",
          "09/03/20",
          "09/03/20",
          "09/03/20",
          "09/03/20",
          "09/03/20",
          "09/03/20",
          "09/03/20",
          "10/03/20",
          "10/03/20",
          "10/03/20",
          "10/03/20",
          "10/03/20",
          "10/03/20",
          "10/03/20",
          "10/03/20",
          "10/03/20",
          "10/03/20",
          "10/03/20",
          "10/03/20",
          "11/03/20",
          "11/03/20",
          "11/03/20",
          "11/03/20",
          "11/03/20",
          "11/03/20",
          "11/03/20",
          "11/03/20",
          "11/03/20",
          "11/03/20",
          "11/03/20",
          "11/03/20",
          "12/03/20",
          "12/03/20",
          "12/03/20",
          "12/03/20",
          "12/03/20",
          "12/03/20",
          "12/03/20",
          "12/03/20",
          "12/03/20",
          "12/03/20",
          "12/03/20",
          "12/03/20",
          "12/03/20",
          "13/03/20",
          "13/03/20",
          "13/03/20",
          "13/03/20",
          "13/03/20",
          "13/03/20",
          "13/03/20",
          "13/03/20",
          "13/03/20",
          "13/03/20",
          "13/03/20",
          "13/03/20",
          "13/03/20",
          "14/03/20",
          "14/03/20",
          "14/03/20",
          "14/03/20",
          "14/03/20",
          "14/03/20",
          "14/03/20",
          "14/03/20",
          "14/03/20",
          "14/03/20",
          "14/03/20",
          "14/03/20",
          "14/03/20",
          "15/03/20",
          "15/03/20",
          "15/03/20",
          "15/03/20",
          "15/03/20",
          "15/03/20",
          "15/03/20",
          "15/03/20",
          "15/03/20",
          "15/03/20",
          "15/03/20",
          "15/03/20",
          "15/03/20",
          "15/03/20",
          "16/03/20",
          "16/03/20",
          "16/03/20",
          "16/03/20",
          "16/03/20",
          "16/03/20",
          "16/03/20",
          "16/03/20",
          "16/03/20",
          "16/03/20",
          "16/03/20",
          "16/03/20",
          "16/03/20",
          "16/03/20",
          "16/03/20",
          "17/03/20",
          "17/03/20",
          "17/03/20",
          "17/03/20",
          "17/03/20",
          "17/03/20",
          "17/03/20",
          "17/03/20",
          "17/03/20",
          "17/03/20",
          "17/03/20",
          "17/03/20",
          "17/03/20",
          "17/03/20",
          "17/03/20",
          "18/03/20",
          "18/03/20",
          "18/03/20",
          "18/03/20",
          "18/03/20",
          "18/03/20",
          "18/03/20",
          "18/03/20",
          "18/03/20",
          "18/03/20",
          "18/03/20",
          "18/03/20",
          "18/03/20",
          "18/03/20",
          "18/03/20",
          "18/03/20",
          "18/03/20",
          "19/03/20",
          "19/03/20",
          "19/03/20",
          "19/03/20",
          "19/03/20",
          "19/03/20",
          "19/03/20",
          "19/03/20",
          "19/03/20",
          "19/03/20",
          "19/03/20",
          "19/03/20",
          "19/03/20",
          "19/03/20",
          "19/03/20",
          "19/03/20",
          "19/03/20",
          "19/03/20",
          "19/03/20",
          "20/03/20",
          "20/03/20",
          "20/03/20",
          "20/03/20",
          "20/03/20",
          "20/03/20",
          "20/03/20",
          "20/03/20",
          "20/03/20",
          "20/03/20",
          "20/03/20",
          "20/03/20",
          "20/03/20",
          "20/03/20",
          "20/03/20",
          "20/03/20",
          "20/03/20",
          "20/03/20",
          "20/03/20",
          "20/03/20",
          "21/03/20",
          "21/03/20",
          "21/03/20",
          "21/03/20",
          "21/03/20",
          "21/03/20",
          "21/03/20",
          "21/03/20",
          "21/03/20",
          "21/03/20",
          "21/03/20",
          "21/03/20",
          "21/03/20",
          "21/03/20",
          "21/03/20",
          "21/03/20",
          "21/03/20",
          "21/03/20",
          "21/03/20",
          "21/03/20",
          "21/03/20",
          "21/03/20",
          "22/03/20",
          "22/03/20",
          "22/03/20",
          "22/03/20",
          "22/03/20",
          "22/03/20",
          "22/03/20",
          "22/03/20",
          "22/03/20",
          "22/03/20",
          "22/03/20",
          "22/03/20",
          "22/03/20",
          "22/03/20",
          "22/03/20",
          "22/03/20",
          "22/03/20",
          "22/03/20",
          "22/03/20",
          "22/03/20",
          "22/03/20",
          "22/03/20",
          "22/03/20",
          "23/03/20",
          "23/03/20",
          "23/03/20",
          "23/03/20",
          "23/03/20",
          "23/03/20",
          "23/03/20",
          "23/03/20",
          "23/03/20",
          "23/03/20",
          "23/03/20",
          "23/03/20",
          "23/03/20",
          "23/03/20",
          "23/03/20",
          "23/03/20",
          "23/03/20",
          "23/03/20",
          "23/03/20",
          "23/03/20",
          "23/03/20",
          "23/03/20",
          "23/03/20",
          "24/03/20",
          "24/03/20",
          "24/03/20",
          "24/03/20",
          "24/03/20",
          "24/03/20",
          "24/03/20",
          "24/03/20",
          "24/03/20",
          "24/03/20",
          "24/03/20",
          "24/03/20",
          "24/03/20",
          "24/03/20",
          "24/03/20",
          "24/03/20",
          "24/03/20",
          "24/03/20",
          "24/03/20",
          "24/03/20",
          "24/03/20",
          "24/03/20",
          "24/03/20",
          "24/03/20",
          "25/03/20",
          "25/03/20",
          "25/03/20",
          "25/03/20",
          "25/03/20",
          "25/03/20",
          "25/03/20",
          "25/03/20",
          "25/03/20",
          "25/03/20",
          "25/03/20",
          "25/03/20",
          "25/03/20",
          "25/03/20",
          "25/03/20",
          "25/03/20",
          "25/03/20",
          "25/03/20",
          "25/03/20",
          "25/03/20",
          "25/03/20",
          "25/03/20",
          "25/03/20",
          "25/03/20",
          "25/03/20",
          "26/03/20",
          "26/03/20",
          "26/03/20",
          "26/03/20",
          "26/03/20",
          "26/03/20",
          "26/03/20",
          "26/03/20",
          "26/03/20",
          "26/03/20",
          "26/03/20",
          "26/03/20",
          "26/03/20",
          "26/03/20",
          "26/03/20",
          "26/03/20",
          "26/03/20",
          "26/03/20",
          "26/03/20",
          "26/03/20",
          "26/03/20",
          "26/03/20",
          "26/03/20",
          "26/03/20",
          "26/03/20",
          "26/03/20",
          "26/03/20",
          "27/03/20",
          "27/03/20",
          "27/03/20",
          "27/03/20",
          "27/03/20",
          "27/03/20",
          "27/03/20",
          "27/03/20",
          "27/03/20",
          "27/03/20",
          "27/03/20",
          "27/03/20",
          "27/03/20",
          "27/03/20",
          "27/03/20",
          "27/03/20",
          "27/03/20",
          "27/03/20",
          "27/03/20",
          "27/03/20",
          "27/03/20",
          "27/03/20",
          "27/03/20",
          "27/03/20",
          "27/03/20",
          "27/03/20",
          "27/03/20",
          "28/03/20",
          "28/03/20",
          "28/03/20",
          "28/03/20",
          "28/03/20",
          "28/03/20",
          "28/03/20",
          "28/03/20",
          "28/03/20",
          "28/03/20",
          "28/03/20",
          "28/03/20",
          "28/03/20",
          "28/03/20",
          "28/03/20",
          "28/03/20",
          "28/03/20",
          "28/03/20",
          "28/03/20",
          "28/03/20",
          "28/03/20",
          "28/03/20",
          "28/03/20",
          "28/03/20",
          "28/03/20",
          "28/03/20",
          "28/03/20",
          "29/03/20",
          "29/03/20",
          "29/03/20",
          "29/03/20",
          "29/03/20",
          "29/03/20",
          "29/03/20",
          "29/03/20",
          "29/03/20",
          "29/03/20",
          "29/03/20",
          "29/03/20",
          "29/03/20",
          "29/03/20",
          "29/03/20",
          "29/03/20",
          "29/03/20",
          "29/03/20",
          "29/03/20",
          "29/03/20",
          "29/03/20",
          "29/03/20",
          "29/03/20",
          "29/03/20",
          "29/03/20",
          "29/03/20",
          "29/03/20",
          "30/03/20",
          "30/03/20",
          "30/03/20",
          "30/03/20",
          "30/03/20",
          "30/03/20",
          "30/03/20",
          "30/03/20",
          "30/03/20",
          "30/03/20",
          "30/03/20",
          "30/03/20",
          "30/03/20",
          "30/03/20",
          "30/03/20",
          "30/03/20",
          "30/03/20",
          "30/03/20",
          "30/03/20",
          "30/03/20",
          "30/03/20",
          "30/03/20",
          "30/03/20",
          "30/03/20",
          "30/03/20",
          "30/03/20",
          "30/03/20",
          "30/03/20",
          "31/03/20",
          "31/03/20",
          "31/03/20",
          "31/03/20",
          "31/03/20",
          "31/03/20",
          "31/03/20",
          "31/03/20",
          "31/03/20",
          "31/03/20",
          "31/03/20",
          "31/03/20",
          "31/03/20",
          "31/03/20",
          "31/03/20",
          "31/03/20",
          "31/03/20",
          "31/03/20",
          "31/03/20",
          "31/03/20",
          "31/03/20",
          "31/03/20",
          "31/03/20",
          "31/03/20",
          "31/03/20",
          "31/03/20",
          "31/03/20",
          "31/03/20",
          "01/04/20",
          "01/04/20",
          "01/04/20",
          "01/04/20",
          "01/04/20",
          "01/04/20",
          "01/04/20",
          "01/04/20",
          "01/04/20",
          "01/04/20",
          "01/04/20",
          "01/04/20",
          "01/04/20",
          "01/04/20",
          "01/04/20",
          "01/04/20",
          "01/04/20",
          "01/04/20",
          "01/04/20",
          "01/04/20",
          "01/04/20",
          "01/04/20",
          "01/04/20",
          "01/04/20",
          "01/04/20",
          "01/04/20",
          "01/04/20",
          "01/04/20",
          "01/04/20",
          "02/04/20",
          "02/04/20",
          "02/04/20",
          "02/04/20",
          "02/04/20",
          "02/04/20",
          "02/04/20",
          "02/04/20",
          "02/04/20",
          "02/04/20",
          "02/04/20",
          "02/04/20",
          "02/04/20",
          "02/04/20",
          "02/04/20",
          "02/04/20",
          "02/04/20",
          "02/04/20",
          "02/04/20",
          "02/04/20",
          "02/04/20",
          "02/04/20",
          "02/04/20",
          "02/04/20",
          "02/04/20",
          "02/04/20",
          "02/04/20",
          "02/04/20",
          "02/04/20",
          "03/04/20",
          "03/04/20",
          "03/04/20",
          "03/04/20",
          "03/04/20",
          "03/04/20",
          "03/04/20",
          "03/04/20",
          "03/04/20",
          "03/04/20",
          "03/04/20",
          "03/04/20",
          "03/04/20",
          "03/04/20",
          "03/04/20",
          "03/04/20",
          "03/04/20",
          "03/04/20",
          "03/04/20",
          "03/04/20",
          "03/04/20",
          "03/04/20",
          "03/04/20",
          "03/04/20",
          "03/04/20",
          "03/04/20",
          "03/04/20",
          "03/04/20",
          "03/04/20",
          "03/04/20",
          "03/04/20",
          "04/04/20",
          "04/04/20",
          "04/04/20",
          "04/04/20",
          "04/04/20",
          "04/04/20",
          "04/04/20",
          "04/04/20",
          "04/04/20",
          "04/04/20",
          "04/04/20",
          "04/04/20",
          "04/04/20",
          "04/04/20",
          "04/04/20",
          "04/04/20",
          "04/04/20",
          "04/04/20",
          "04/04/20",
          "04/04/20",
          "04/04/20",
          "04/04/20",
          "04/04/20",
          "04/04/20",
          "04/04/20",
          "04/04/20",
          "04/04/20",
          "04/04/20",
          "04/04/20",
          "04/04/20",
          "05/04/20",
          "05/04/20",
          "05/04/20",
          "05/04/20",
          "05/04/20",
          "05/04/20",
          "05/04/20",
          "05/04/20",
          "05/04/20",
          "05/04/20",
          "05/04/20",
          "05/04/20",
          "05/04/20",
          "05/04/20",
          "05/04/20",
          "05/04/20",
          "05/04/20",
          "05/04/20",
          "05/04/20",
          "05/04/20",
          "05/04/20",
          "05/04/20",
          "05/04/20",
          "05/04/20",
          "05/04/20",
          "05/04/20",
          "05/04/20",
          "05/04/20",
          "05/04/20",
          "05/04/20",
          "06/04/20",
          "06/04/20",
          "06/04/20",
          "06/04/20",
          "06/04/20",
          "06/04/20",
          "06/04/20",
          "06/04/20",
          "06/04/20",
          "06/04/20",
          "06/04/20",
          "06/04/20",
          "06/04/20",
          "06/04/20",
          "06/04/20",
          "06/04/20",
          "06/04/20",
          "06/04/20",
          "06/04/20",
          "06/04/20",
          "06/04/20",
          "06/04/20",
          "06/04/20",
          "06/04/20",
          "06/04/20",
          "06/04/20",
          "06/04/20",
          "06/04/20",
          "06/04/20",
          "06/04/20",
          "07/04/20",
          "07/04/20",
          "07/04/20",
          "07/04/20",
          "07/04/20",
          "07/04/20",
          "07/04/20",
          "07/04/20",
          "07/04/20",
          "07/04/20",
          "07/04/20",
          "07/04/20",
          "07/04/20",
          "07/04/20",
          "07/04/20",
          "07/04/20",
          "07/04/20",
          "07/04/20",
          "07/04/20",
          "07/04/20",
          "07/04/20",
          "07/04/20",
          "07/04/20",
          "07/04/20",
          "07/04/20",
          "07/04/20",
          "07/04/20",
          "07/04/20",
          "07/04/20",
          "07/04/20",
          "07/04/20",
          "08/04/20",
          "08/04/20",
          "08/04/20",
          "08/04/20",
          "08/04/20",
          "08/04/20",
          "08/04/20",
          "08/04/20",
          "08/04/20",
          "08/04/20",
          "08/04/20",
          "08/04/20",
          "08/04/20",
          "08/04/20",
          "08/04/20",
          "08/04/20",
          "08/04/20",
          "08/04/20",
          "08/04/20",
          "08/04/20",
          "08/04/20",
          "08/04/20",
          "08/04/20",
          "08/04/20",
          "08/04/20",
          "08/04/20",
          "08/04/20",
          "08/04/20",
          "08/04/20",
          "08/04/20",
          "08/04/20",
          "09/04/20",
          "09/04/20",
          "09/04/20",
          "09/04/20",
          "09/04/20",
          "09/04/20",
          "09/04/20",
          "09/04/20",
          "09/04/20",
          "09/04/20",
          "09/04/20",
          "09/04/20",
          "09/04/20",
          "09/04/20",
          "09/04/20",
          "09/04/20",
          "09/04/20",
          "09/04/20",
          "09/04/20",
          "09/04/20",
          "09/04/20",
          "09/04/20",
          "09/04/20",
          "09/04/20",
          "09/04/20",
          "09/04/20",
          "09/04/20",
          "09/04/20",
          "09/04/20",
          "09/04/20",
          "09/04/20",
          "10/04/20",
          "10/04/20",
          "10/04/20",
          "10/04/20",
          "10/04/20",
          "10/04/20",
          "10/04/20",
          "10/04/20",
          "10/04/20",
          "10/04/20",
          "10/04/20",
          "10/04/20",
          "10/04/20",
          "10/04/20",
          "10/04/20",
          "10/04/20",
          "10/04/20",
          "10/04/20",
          "10/04/20",
          "10/04/20",
          "10/04/20",
          "10/04/20",
          "10/04/20",
          "10/04/20",
          "10/04/20",
          "10/04/20",
          "10/04/20",
          "10/04/20",
          "10/04/20",
          "10/04/20",
          "10/04/20",
          "11/04/20",
          "11/04/20",
          "11/04/20",
          "11/04/20",
          "11/04/20",
          "11/04/20",
          "11/04/20",
          "11/04/20",
          "11/04/20",
          "11/04/20",
          "11/04/20",
          "11/04/20",
          "11/04/20",
          "11/04/20",
          "11/04/20",
          "11/04/20",
          "11/04/20",
          "11/04/20",
          "11/04/20",
          "11/04/20",
          "11/04/20",
          "11/04/20",
          "11/04/20",
          "11/04/20",
          "11/04/20",
          "11/04/20",
          "11/04/20",
          "11/04/20",
          "11/04/20",
          "11/04/20",
          "11/04/20",
          "12/04/20",
          "12/04/20",
          "12/04/20",
          "12/04/20",
          "12/04/20",
          "12/04/20",
          "12/04/20",
          "12/04/20",
          "12/04/20",
          "12/04/20",
          "12/04/20",
          "12/04/20",
          "12/04/20",
          "12/04/20",
          "12/04/20",
          "12/04/20",
          "12/04/20",
          "12/04/20",
          "12/04/20",
          "12/04/20",
          "12/04/20",
          "12/04/20",
          "12/04/20",
          "12/04/20",
          "12/04/20",
          "12/04/20",
          "12/04/20",
          "12/04/20",
          "12/04/20",
          "12/04/20",
          "12/04/20",
          "13/04/20",
          "13/04/20",
          "13/04/20",
          "13/04/20",
          "13/04/20",
          "13/04/20",
          "13/04/20",
          "13/04/20",
          "13/04/20",
          "13/04/20",
          "13/04/20",
          "13/04/20",
          "13/04/20",
          "13/04/20",
          "13/04/20",
          "13/04/20",
          "13/04/20",
          "13/04/20",
          "13/04/20",
          "13/04/20",
          "13/04/20",
          "13/04/20",
          "13/04/20",
          "13/04/20",
          "13/04/20",
          "13/04/20",
          "13/04/20",
          "13/04/20",
          "13/04/20",
          "13/04/20",
          "13/04/20",
          "13/04/20"
         ],
         "y": {
          "dtype": "i2",
          "bdata": "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"
         },
         "type": "scatter"
        }
       ],
       "layout": {
        "template": {
         "data": {
          "histogram2dcontour": [
           {
            "type": "histogram2dcontour",
            "colorbar": {
             "outlinewidth": 0,
             "ticks": ""
            },
            "colorscale": [
             [
              0.0,
              "#0d0887"
             ],
             [
              0.1111111111111111,
              "#46039f"
             ],
             [
              0.2222222222222222,
              "#7201a8"
             ],
             [
              0.3333333333333333,
              "#9c179e"
             ],
             [
              0.4444444444444444,
              "#bd3786"
             ],
             [
              0.5555555555555556,
              "#d8576b"
             ],
             [
              0.6666666666666666,
              "#ed7953"
             ],
             [
              0.7777777777777778,
              "#fb9f3a"
             ],
             [
              0.8888888888888888,
              "#fdca26"
             ],
             [
              1.0,
              "#f0f921"
             ]
            ]
           }
          ],
          "choropleth": [
           {
            "type": "choropleth",
            "colorbar": {
             "outlinewidth": 0,
             "ticks": ""
            }
           }
          ],
          "histogram2d": [
           {
            "type": "histogram2d",
            "colorbar": {
             "outlinewidth": 0,
             "ticks": ""
            },
            "colorscale": [
             [
              0.0,
              "#0d0887"
             ],
             [
              0.1111111111111111,
              "#46039f"
             ],
             [
              0.2222222222222222,
              "#7201a8"
             ],
             [
              0.3333333333333333,
              "#9c179e"
             ],
             [
              0.4444444444444444,
              "#bd3786"
             ],
             [
              0.5555555555555556,
              "#d8576b"
             ],
             [
              0.6666666666666666,
              "#ed7953"
             ],
             [
              0.7777777777777778,
              "#fb9f3a"
             ],
             [
              0.8888888888888888,
              "#fdca26"
             ],
             [
              1.0,
              "#f0f921"
             ]
            ]
           }
          ],
          "heatmap": [
           {
            "type": "heatmap",
            "colorbar": {
             "outlinewidth": 0,
             "ticks": ""
            },
            "colorscale": [
             [
              0.0,
              "#0d0887"
             ],
             [
              0.1111111111111111,
              "#46039f"
             ],
             [
              0.2222222222222222,
              "#7201a8"
             ],
             [
              0.3333333333333333,
              "#9c179e"
             ],
             [
              0.4444444444444444,
              "#bd3786"
             ],
             [
              0.5555555555555556,
              "#d8576b"
             ],
             [
              0.6666666666666666,
              "#ed7953"
             ],
             [
              0.7777777777777778,
              "#fb9f3a"
             ],
             [
              0.8888888888888888,
              "#fdca26"
             ],
             [
              1.0,
              "#f0f921"
             ]
            ]
           }
          ],
          "contourcarpet": [
           {
            "type": "contourcarpet",
            "colorbar": {
             "outlinewidth": 0,
             "ticks": ""
            }
           }
          ],
          "contour": [
           {
            "type": "contour",
            "colorbar": {
             "outlinewidth": 0,
             "ticks": ""
            },
            "colorscale": [
             [
              0.0,
              "#0d0887"
             ],
             [
              0.1111111111111111,
              "#46039f"
             ],
             [
              0.2222222222222222,
              "#7201a8"
             ],
             [
              0.3333333333333333,
              "#9c179e"
             ],
             [
              0.4444444444444444,
              "#bd3786"
             ],
             [
              0.5555555555555556,
              "#d8576b"
             ],
             [
              0.6666666666666666,
              "#ed7953"
             ],
             [
              0.7777777777777778,
              "#fb9f3a"
             ],
             [
              0.8888888888888888,
              "#fdca26"
             ],
             [
              1.0,
              "#f0f921"
             ]
            ]
           }
          ],
          "surface": [
           {
            "type": "surface",
            "colorbar": {
             "outlinewidth": 0,
             "ticks": ""
            },
            "colorscale": [
             [
              0.0,
              "#0d0887"
             ],
             [
              0.1111111111111111,
              "#46039f"
             ],
             [
              0.2222222222222222,
              "#7201a8"
             ],
             [
              0.3333333333333333,
              "#9c179e"
             ],
             [
              0.4444444444444444,
              "#bd3786"
             ],
             [
              0.5555555555555556,
              "#d8576b"
             ],
             [
              0.6666666666666666,
              "#ed7953"
             ],
             [
              0.7777777777777778,
              "#fb9f3a"
             ],
             [
              0.8888888888888888,
              "#fdca26"
             ],
             [
              1.0,
              "#f0f921"
             ]
            ]
           }
          ],
          "mesh3d": [
           {
            "type": "mesh3d",
            "colorbar": {
             "outlinewidth": 0,
             "ticks": ""
            }
           }
          ],
          "scatter": [
           {
            "marker": {
             "line": {
              "color": "#283442"
             }
            },
            "type": "scatter"
           }
          ],
          "parcoords": [
           {
            "type": "parcoords",
            "line": {
             "colorbar": {
              "outlinewidth": 0,
              "ticks": ""
             }
            }
           }
          ],
          "scatterpolargl": [
           {
            "type": "scatterpolargl",
            "marker": {
             "colorbar": {
              "outlinewidth": 0,
              "ticks": ""
             }
            }
           }
          ],
          "bar": [
           {
            "error_x": {
             "color": "#f2f5fa"
            },
            "error_y": {
             "color": "#f2f5fa"
            },
            "marker": {
             "line": {
              "color": "rgb(17,17,17)",
              "width": 0.5
             },
             "pattern": {
              "fillmode": "overlay",
              "size": 10,
              "solidity": 0.2
             }
            },
            "type": "bar"
           }
          ],
          "scattergeo": [
           {
            "type": "scattergeo",
            "marker": {
             "colorbar": {
              "outlinewidth": 0,
              "ticks": ""
             }
            }
           }
          ],
          "scatterpolar": [
           {
            "type": "scatterpolar",
            "marker": {
             "colorbar": {
              "outlinewidth": 0,
              "ticks": ""
             }
            }
           }
          ],
          "histogram": [
           {
            "marker": {
             "pattern": {
              "fillmode": "overlay",
              "size": 10,
              "solidity": 0.2
             }
            },
            "type": "histogram"
           }
          ],
          "scattergl": [
           {
            "marker": {
             "line": {
              "color": "#283442"
             }
            },
            "type": "scattergl"
           }
          ],
          "scatter3d": [
           {
            "type": "scatter3d",
            "line": {
             "colorbar": {
              "outlinewidth": 0,
              "ticks": ""
             }
            },
            "marker": {
             "colorbar": {
              "outlinewidth": 0,
              "ticks": ""
             }
            }
           }
          ],
          "scattermap": [
           {
            "type": "scattermap",
            "marker": {
             "colorbar": {
              "outlinewidth": 0,
              "ticks": ""
             }
            }
           }
          ],
          "scattermapbox": [
           {
            "type": "scattermapbox",
            "marker": {
             "colorbar": {
              "outlinewidth": 0,
              "ticks": ""
             }
            }
           }
          ],
          "scatterternary": [
           {
            "type": "scatterternary",
            "marker": {
             "colorbar": {
              "outlinewidth": 0,
              "ticks": ""
             }
            }
           }
          ],
          "scattercarpet": [
           {
            "type": "scattercarpet",
            "marker": {
             "colorbar": {
              "outlinewidth": 0,
              "ticks": ""
             }
            }
           }
          ],
          "carpet": [
           {
            "aaxis": {
             "endlinecolor": "#A2B1C6",
             "gridcolor": "#506784",
             "linecolor": "#506784",
             "minorgridcolor": "#506784",
             "startlinecolor": "#A2B1C6"
            },
            "baxis": {
             "endlinecolor": "#A2B1C6",
             "gridcolor": "#506784",
             "linecolor": "#506784",
             "minorgridcolor": "#506784",
             "startlinecolor": "#A2B1C6"
            },
            "type": "carpet"
           }
          ],
          "table": [
           {
            "cells": {
             "fill": {
              "color": "#506784"
             },
             "line": {
              "color": "rgb(17,17,17)"
             }
            },
            "header": {
             "fill": {
              "color": "#2a3f5f"
             },
             "line": {
              "color": "rgb(17,17,17)"
             }
            },
            "type": "table"
           }
          ],
          "barpolar": [
           {
            "marker": {
             "line": {
              "color": "rgb(17,17,17)",
              "width": 0.5
             },
             "pattern": {
              "fillmode": "overlay",
              "size": 10,
              "solidity": 0.2
             }
            },
            "type": "barpolar"
           }
          ],
          "pie": [
           {
            "automargin": true,
            "type": "pie"
           }
          ]
         },
         "layout": {
          "autotypenumbers": "strict",
          "colorway": [
           "#636efa",
           "#EF553B",
           "#00cc96",
           "#ab63fa",
           "#FFA15A",
           "#19d3f3",
           "#FF6692",
           "#B6E880",
           "#FF97FF",
           "#FECB52"
          ],
          "font": {
           "color": "#f2f5fa"
          },
          "hovermode": "closest",
          "hoverlabel": {
           "align": "left"
          },
          "paper_bgcolor": "rgb(17,17,17)",
          "plot_bgcolor": "rgb(17,17,17)",
          "polar": {
           "bgcolor": "rgb(17,17,17)",
           "angularaxis": {
            "gridcolor": "#506784",
            "linecolor": "#506784",
            "ticks": ""
           },
           "radialaxis": {
            "gridcolor": "#506784",
            "linecolor": "#506784",
            "ticks": ""
           }
          },
          "ternary": {
           "bgcolor": "rgb(17,17,17)",
           "aaxis": {
            "gridcolor": "#506784",
            "linecolor": "#506784",
            "ticks": ""
           },
           "baxis": {
            "gridcolor": "#506784",
            "linecolor": "#506784",
            "ticks": ""
           },
           "caxis": {
            "gridcolor": "#506784",
            "linecolor": "#506784",
            "ticks": ""
           }
          },
          "coloraxis": {
           "colorbar": {
            "outlinewidth": 0,
            "ticks": ""
           }
          },
          "colorscale": {
           "sequential": [
            [
             0.0,
             "#0d0887"
            ],
            [
             0.1111111111111111,
             "#46039f"
            ],
            [
             0.2222222222222222,
             "#7201a8"
            ],
            [
             0.3333333333333333,
             "#9c179e"
            ],
            [
             0.4444444444444444,
             "#bd3786"
            ],
            [
             0.5555555555555556,
             "#d8576b"
            ],
            [
             0.6666666666666666,
             "#ed7953"
            ],
            [
             0.7777777777777778,
             "#fb9f3a"
            ],
            [
             0.8888888888888888,
             "#fdca26"
            ],
            [
             1.0,
             "#f0f921"
            ]
           ],
           "sequentialminus": [
            [
             0.0,
             "#0d0887"
            ],
            [
             0.1111111111111111,
             "#46039f"
            ],
            [
             0.2222222222222222,
             "#7201a8"
            ],
            [
             0.3333333333333333,
             "#9c179e"
            ],
            [
             0.4444444444444444,
             "#bd3786"
            ],
            [
             0.5555555555555556,
             "#d8576b"
            ],
            [
             0.6666666666666666,
             "#ed7953"
            ],
            [
             0.7777777777777778,
             "#fb9f3a"
            ],
            [
             0.8888888888888888,
             "#fdca26"
            ],
            [
             1.0,
             "#f0f921"
            ]
           ],
           "diverging": [
            [
             0,
             "#8e0152"
            ],
            [
             0.1,
             "#c51b7d"
            ],
            [
             0.2,
             "#de77ae"
            ],
            [
             0.3,
             "#f1b6da"
            ],
            [
             0.4,
             "#fde0ef"
            ],
            [
             0.5,
             "#f7f7f7"
            ],
            [
             0.6,
             "#e6f5d0"
            ],
            [
             0.7,
             "#b8e186"
            ],
            [
             0.8,
             "#7fbc41"
            ],
            [
             0.9,
             "#4d9221"
            ],
            [
             1,
             "#276419"
            ]
           ]
          },
          "xaxis": {
           "gridcolor": "#283442",
           "linecolor": "#506784",
           "ticks": "",
           "title": {
            "standoff": 15
           },
           "zerolinecolor": "#283442",
           "automargin": true,
           "zerolinewidth": 2
          },
          "yaxis": {
           "gridcolor": "#283442",
           "linecolor": "#506784",
           "ticks": "",
           "title": {
            "standoff": 15
           },
           "zerolinecolor": "#283442",
           "automargin": true,
           "zerolinewidth": 2
          },
          "scene": {
           "xaxis": {
            "backgroundcolor": "rgb(17,17,17)",
            "gridcolor": "#506784",
            "linecolor": "#506784",
            "showbackground": true,
            "ticks": "",
            "zerolinecolor": "#C8D4E3",
            "gridwidth": 2
           },
           "yaxis": {
            "backgroundcolor": "rgb(17,17,17)",
            "gridcolor": "#506784",
            "linecolor": "#506784",
            "showbackground": true,
            "ticks": "",
            "zerolinecolor": "#C8D4E3",
            "gridwidth": 2
           },
           "zaxis": {
            "backgroundcolor": "rgb(17,17,17)",
            "gridcolor": "#506784",
            "linecolor": "#506784",
            "showbackground": true,
            "ticks": "",
            "zerolinecolor": "#C8D4E3",
            "gridwidth": 2
           }
          },
          "shapedefaults": {
           "line": {
            "color": "#f2f5fa"
           }
          },
          "annotationdefaults": {
           "arrowcolor": "#f2f5fa",
           "arrowhead": 0,
           "arrowwidth": 1
          },
          "geo": {
           "bgcolor": "rgb(17,17,17)",
           "landcolor": "rgb(17,17,17)",
           "subunitcolor": "#506784",
           "showland": true,
           "showlakes": true,
           "lakecolor": "rgb(17,17,17)"
          },
          "title": {
           "x": 0.05
          },
          "updatemenudefaults": {
           "bgcolor": "#506784",
           "borderwidth": 0
          },
          "sliderdefaults": {
           "bgcolor": "#C8D4E3",
           "borderwidth": 1,
           "bordercolor": "rgb(17,17,17)",
           "tickwidth": 0
          },
          "mapbox": {
           "style": "dark"
          }
         }
        },
        "title": {
         "text": "Confirmed Cases Over Time"
        },
        "width": 800,
        "height": 600,
        "xaxis": {
         "title": {
          "text": "Date"
         }
        },
        "yaxis": {
         "title": {
          "text": "Confirmed"
         }
        }
       },
       "config": {
        "plotlyServerURL": "https://plot.ly"
       }
      }
     },
     "metadata": {},
     "output_type": "display_data"
    }
   ],
   "execution_count": 71
  },
  {
   "metadata": {},
   "cell_type": "code",
   "outputs": [],
   "execution_count": null,
   "source": "",
   "id": "b3296a24d3e4edcf"
  }
 ],
 "metadata": {
  "kernelspec": {
   "display_name": "Python 3",
   "language": "python",
   "name": "python3"
  },
  "language_info": {
   "codemirror_mode": {
    "name": "ipython",
    "version": 2
   },
   "file_extension": ".py",
   "mimetype": "text/x-python",
   "name": "python",
   "nbconvert_exporter": "python",
   "pygments_lexer": "ipython2",
   "version": "2.7.6"
  }
 },
 "nbformat": 4,
 "nbformat_minor": 5
}
